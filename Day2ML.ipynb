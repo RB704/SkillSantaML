{
 "cells": [
  {
   "cell_type": "code",
   "execution_count": 1,
   "metadata": {},
   "outputs": [],
   "source": [
    "import numpy as np\n"
   ]
  },
  {
   "cell_type": "code",
   "execution_count": 2,
   "metadata": {},
   "outputs": [],
   "source": [
    "a=np.arange(10,19).reshape(3,3)"
   ]
  },
  {
   "cell_type": "code",
   "execution_count": 3,
   "metadata": {},
   "outputs": [
    {
     "data": {
      "text/plain": [
       "array([[10, 11, 12],\n",
       "       [13, 14, 15],\n",
       "       [16, 17, 18]])"
      ]
     },
     "execution_count": 3,
     "metadata": {},
     "output_type": "execute_result"
    }
   ],
   "source": [
    "a"
   ]
  },
  {
   "cell_type": "code",
   "execution_count": 4,
   "metadata": {},
   "outputs": [
    {
     "data": {
      "text/plain": [
       "array([[10, 11, 12],\n",
       "       [13, 14, 15],\n",
       "       [16, 17, 18]])"
      ]
     },
     "execution_count": 4,
     "metadata": {},
     "output_type": "execute_result"
    }
   ],
   "source": [
    "a[::1]"
   ]
  },
  {
   "cell_type": "code",
   "execution_count": 5,
   "metadata": {},
   "outputs": [
    {
     "data": {
      "text/plain": [
       "array([[10, 11, 12],\n",
       "       [16, 17, 18]])"
      ]
     },
     "execution_count": 5,
     "metadata": {},
     "output_type": "execute_result"
    }
   ],
   "source": [
    "a[::2]"
   ]
  },
  {
   "cell_type": "code",
   "execution_count": 6,
   "metadata": {},
   "outputs": [
    {
     "data": {
      "text/plain": [
       "array([[10, 11, 12]])"
      ]
     },
     "execution_count": 6,
     "metadata": {},
     "output_type": "execute_result"
    }
   ],
   "source": [
    "a[::3]"
   ]
  },
  {
   "cell_type": "code",
   "execution_count": 7,
   "metadata": {},
   "outputs": [
    {
     "data": {
      "text/plain": [
       "array([[10, 11],\n",
       "       [13, 14]])"
      ]
     },
     "execution_count": 7,
     "metadata": {},
     "output_type": "execute_result"
    }
   ],
   "source": [
    "a[0:2,0:2]"
   ]
  },
  {
   "cell_type": "code",
   "execution_count": 8,
   "metadata": {},
   "outputs": [
    {
     "data": {
      "text/plain": [
       "array([[10, 11],\n",
       "       [16, 17]])"
      ]
     },
     "execution_count": 8,
     "metadata": {},
     "output_type": "execute_result"
    }
   ],
   "source": [
    "a[(0,2),0:2]"
   ]
  },
  {
   "cell_type": "code",
   "execution_count": 9,
   "metadata": {},
   "outputs": [],
   "source": [
    "b=np.arange(99)"
   ]
  },
  {
   "cell_type": "code",
   "execution_count": 10,
   "metadata": {},
   "outputs": [
    {
     "data": {
      "text/plain": [
       "array([ 0,  1,  2,  3,  4,  5,  6,  7,  8,  9, 10, 11, 12, 13, 14, 15, 16,\n",
       "       17, 18, 19, 20, 21, 22, 23, 24, 25, 26, 27, 28, 29, 30, 31, 32, 33,\n",
       "       34, 35, 36, 37, 38, 39, 40, 41, 42, 43, 44, 45, 46, 47, 48, 49, 50,\n",
       "       51, 52, 53, 54, 55, 56, 57, 58, 59, 60, 61, 62, 63, 64, 65, 66, 67,\n",
       "       68, 69, 70, 71, 72, 73, 74, 75, 76, 77, 78, 79, 80, 81, 82, 83, 84,\n",
       "       85, 86, 87, 88, 89, 90, 91, 92, 93, 94, 95, 96, 97, 98])"
      ]
     },
     "execution_count": 10,
     "metadata": {},
     "output_type": "execute_result"
    }
   ],
   "source": [
    "b"
   ]
  },
  {
   "cell_type": "code",
   "execution_count": 11,
   "metadata": {},
   "outputs": [
    {
     "data": {
      "text/plain": [
       "array([22, 23, 24, 25, 26, 27, 28, 29, 30, 31, 32, 33, 34, 35, 36, 37, 38,\n",
       "       39, 40, 41, 42, 43, 44, 45, 46, 47, 48, 49, 50, 51, 52, 53, 54, 55,\n",
       "       56, 57, 58, 59, 60, 61, 62, 63, 64, 65, 66, 67, 68, 69, 70, 71, 72,\n",
       "       73, 74, 75, 76, 77, 78, 79, 80, 81, 82, 83, 84, 85, 86, 87])"
      ]
     },
     "execution_count": 11,
     "metadata": {},
     "output_type": "execute_result"
    }
   ],
   "source": [
    "b[22:88]"
   ]
  },
  {
   "cell_type": "code",
   "execution_count": 12,
   "metadata": {},
   "outputs": [
    {
     "data": {
      "text/plain": [
       "array([22])"
      ]
     },
     "execution_count": 12,
     "metadata": {},
     "output_type": "execute_result"
    }
   ],
   "source": [
    "b[22:88:92]"
   ]
  },
  {
   "cell_type": "code",
   "execution_count": 13,
   "metadata": {},
   "outputs": [
    {
     "data": {
      "text/plain": [
       "array([22, 23, 24, 25, 26, 27, 28, 29, 30, 31, 32, 33, 34, 35, 36, 37, 38,\n",
       "       39, 40, 41, 42, 43, 44, 45, 46, 47, 48, 49, 50, 51, 52, 53, 54, 55,\n",
       "       56, 57, 58, 59, 60, 61, 62, 63, 64, 65, 66, 67, 68, 69, 70, 71, 72,\n",
       "       73, 74, 75, 76, 77, 78, 79, 80, 81, 82, 83, 84, 85, 86, 87])"
      ]
     },
     "execution_count": 13,
     "metadata": {},
     "output_type": "execute_result"
    }
   ],
   "source": [
    "b[22:88:1]"
   ]
  },
  {
   "cell_type": "code",
   "execution_count": 14,
   "metadata": {},
   "outputs": [
    {
     "data": {
      "text/plain": [
       "array([22, 24, 26, 28, 30, 32, 34, 36, 38, 40, 42, 44, 46, 48, 50, 52, 54,\n",
       "       56, 58, 60, 62, 64, 66, 68, 70, 72, 74, 76, 78, 80, 82, 84, 86])"
      ]
     },
     "execution_count": 14,
     "metadata": {},
     "output_type": "execute_result"
    }
   ],
   "source": [
    "b[22:88:2]"
   ]
  },
  {
   "cell_type": "code",
   "execution_count": 15,
   "metadata": {},
   "outputs": [
    {
     "data": {
      "text/plain": [
       "array([22, 25, 28, 31, 34, 37, 40, 43, 46, 49, 52, 55, 58, 61, 64, 67, 70,\n",
       "       73, 76, 79, 82, 85])"
      ]
     },
     "execution_count": 15,
     "metadata": {},
     "output_type": "execute_result"
    }
   ],
   "source": [
    "b[22:88:3]"
   ]
  },
  {
   "cell_type": "code",
   "execution_count": 16,
   "metadata": {},
   "outputs": [
    {
     "data": {
      "text/plain": [
       "array([22, 32, 42, 52, 62, 72, 82])"
      ]
     },
     "execution_count": 16,
     "metadata": {},
     "output_type": "execute_result"
    }
   ],
   "source": [
    "b[22:88:10]"
   ]
  },
  {
   "cell_type": "code",
   "execution_count": 17,
   "metadata": {},
   "outputs": [
    {
     "data": {
      "text/plain": [
       "array([], dtype=int32)"
      ]
     },
     "execution_count": 17,
     "metadata": {},
     "output_type": "execute_result"
    }
   ],
   "source": [
    "b[22:88:-1]"
   ]
  },
  {
   "cell_type": "code",
   "execution_count": 18,
   "metadata": {},
   "outputs": [
    {
     "data": {
      "text/plain": [
       "array([88, 87, 86, 85, 84, 83, 82, 81, 80, 79, 78, 77, 76, 75, 74, 73, 72,\n",
       "       71, 70, 69, 68, 67, 66, 65, 64, 63, 62, 61, 60, 59, 58, 57, 56, 55,\n",
       "       54, 53, 52, 51, 50, 49, 48, 47, 46, 45, 44, 43, 42, 41, 40, 39, 38,\n",
       "       37, 36, 35, 34, 33, 32, 31, 30, 29, 28, 27, 26, 25, 24, 23])"
      ]
     },
     "execution_count": 18,
     "metadata": {},
     "output_type": "execute_result"
    }
   ],
   "source": [
    "b[88:22:-1]"
   ]
  },
  {
   "cell_type": "code",
   "execution_count": 19,
   "metadata": {},
   "outputs": [
    {
     "data": {
      "text/plain": [
       "array([88, 86, 84, 82, 80, 78, 76, 74, 72, 70, 68, 66, 64, 62, 60, 58, 56,\n",
       "       54, 52, 50, 48, 46, 44, 42, 40, 38, 36, 34, 32, 30, 28, 26, 24])"
      ]
     },
     "execution_count": 19,
     "metadata": {},
     "output_type": "execute_result"
    }
   ],
   "source": [
    "b[88:22:-2]"
   ]
  },
  {
   "cell_type": "code",
   "execution_count": 20,
   "metadata": {},
   "outputs": [
    {
     "data": {
      "text/plain": [
       "array([ 0,  1,  2,  3,  4,  5,  6,  7,  8,  9, 10, 11, 12, 13, 14, 15, 16,\n",
       "       17, 18, 19, 20, 21, 22, 23, 24, 25, 26, 27, 28, 29, 30, 31, 32, 33,\n",
       "       34, 35, 36, 37, 38, 39, 40, 41, 42, 43, 44, 45, 46, 47, 48, 49, 50,\n",
       "       51, 52, 53, 54, 55, 56, 57, 58, 59, 60, 61, 62, 63, 64, 65, 66, 67,\n",
       "       68, 69, 70, 71, 72, 73, 74, 75, 76, 77, 78, 79, 80, 81, 82, 83, 84,\n",
       "       85, 86, 87, 88, 89, 90, 91, 92, 93, 94, 95, 96, 97, 98])"
      ]
     },
     "execution_count": 20,
     "metadata": {},
     "output_type": "execute_result"
    }
   ],
   "source": [
    "b[::1]"
   ]
  },
  {
   "cell_type": "code",
   "execution_count": 21,
   "metadata": {},
   "outputs": [
    {
     "data": {
      "text/plain": [
       "array([ 0,  2,  4,  6,  8, 10, 12, 14, 16, 18, 20, 22, 24, 26, 28, 30, 32,\n",
       "       34, 36, 38, 40, 42, 44, 46, 48, 50, 52, 54, 56, 58, 60, 62, 64, 66,\n",
       "       68, 70, 72, 74, 76, 78, 80, 82, 84, 86, 88, 90, 92, 94, 96, 98])"
      ]
     },
     "execution_count": 21,
     "metadata": {},
     "output_type": "execute_result"
    }
   ],
   "source": [
    "b[::2]"
   ]
  },
  {
   "cell_type": "code",
   "execution_count": 22,
   "metadata": {},
   "outputs": [
    {
     "data": {
      "text/plain": [
       "array([0, 1, 2, 3, 4])"
      ]
     },
     "execution_count": 22,
     "metadata": {},
     "output_type": "execute_result"
    }
   ],
   "source": [
    "b[:5:]"
   ]
  },
  {
   "cell_type": "code",
   "execution_count": 23,
   "metadata": {},
   "outputs": [
    {
     "data": {
      "text/plain": [
       "array([[10, 11, 12],\n",
       "       [13, 14, 15],\n",
       "       [16, 17, 18]])"
      ]
     },
     "execution_count": 23,
     "metadata": {},
     "output_type": "execute_result"
    }
   ],
   "source": [
    "a[0:]"
   ]
  },
  {
   "cell_type": "code",
   "execution_count": 24,
   "metadata": {},
   "outputs": [
    {
     "data": {
      "text/plain": [
       "array([10, 11, 12])"
      ]
     },
     "execution_count": 24,
     "metadata": {},
     "output_type": "execute_result"
    }
   ],
   "source": [
    "a[0,:] #same output can be obtained by using a[0]"
   ]
  },
  {
   "cell_type": "code",
   "execution_count": 25,
   "metadata": {},
   "outputs": [
    {
     "data": {
      "text/plain": [
       "array([[10, 11],\n",
       "       [16, 17]])"
      ]
     },
     "execution_count": 25,
     "metadata": {},
     "output_type": "execute_result"
    }
   ],
   "source": [
    "a[[0,2],0:2]"
   ]
  },
  {
   "cell_type": "code",
   "execution_count": 26,
   "metadata": {},
   "outputs": [
    {
     "data": {
      "text/plain": [
       "<numpy.flatiter at 0x41a08b4800>"
      ]
     },
     "execution_count": 26,
     "metadata": {},
     "output_type": "execute_result"
    }
   ],
   "source": [
    "a.flat"
   ]
  },
  {
   "cell_type": "code",
   "execution_count": 27,
   "metadata": {},
   "outputs": [
    {
     "name": "stdout",
     "output_type": "stream",
     "text": [
      "[[10 11 12]\n",
      " [13 14 15]\n",
      " [16 17 18]]\n"
     ]
    }
   ],
   "source": [
    "print(a)"
   ]
  },
  {
   "cell_type": "code",
   "execution_count": 33,
   "metadata": {},
   "outputs": [
    {
     "data": {
      "text/plain": [
       "array([13., 14., 15.])"
      ]
     },
     "execution_count": 33,
     "metadata": {},
     "output_type": "execute_result"
    }
   ],
   "source": [
    "np.apply_along_axis(np.mean,axis=0,arr=a)"
   ]
  },
  {
   "cell_type": "code",
   "execution_count": 35,
   "metadata": {},
   "outputs": [
    {
     "data": {
      "text/plain": [
       "array([11., 14., 17.])"
      ]
     },
     "execution_count": 35,
     "metadata": {},
     "output_type": "execute_result"
    }
   ],
   "source": [
    "np.apply_along_axis(np.mean,axis=1,arr=a)"
   ]
  },
  {
   "cell_type": "code",
   "execution_count": 36,
   "metadata": {},
   "outputs": [],
   "source": [
    "def halfOfvalue(x):\n",
    "    return x/2"
   ]
  },
  {
   "cell_type": "code",
   "execution_count": 37,
   "metadata": {},
   "outputs": [
    {
     "data": {
      "text/plain": [
       "array([[5. , 5.5, 6. ],\n",
       "       [6.5, 7. , 7.5],\n",
       "       [8. , 8.5, 9. ]])"
      ]
     },
     "execution_count": 37,
     "metadata": {},
     "output_type": "execute_result"
    }
   ],
   "source": [
    "np.apply_along_axis(halfOfvalue,axis=0,arr=a)"
   ]
  },
  {
   "cell_type": "code",
   "execution_count": 39,
   "metadata": {},
   "outputs": [],
   "source": [
    "def sub_matrix(x):\n",
    "    return x-1"
   ]
  },
  {
   "cell_type": "code",
   "execution_count": 40,
   "metadata": {},
   "outputs": [
    {
     "data": {
      "text/plain": [
       "array([[ 9, 10, 11],\n",
       "       [12, 13, 14],\n",
       "       [15, 16, 17]])"
      ]
     },
     "execution_count": 40,
     "metadata": {},
     "output_type": "execute_result"
    }
   ],
   "source": [
    "np.apply_along_axis(sub_matrix,axis=0,arr=a)"
   ]
  },
  {
   "cell_type": "code",
   "execution_count": 41,
   "metadata": {},
   "outputs": [],
   "source": [
    "a=np.random.random((4,4))"
   ]
  },
  {
   "cell_type": "code",
   "execution_count": 42,
   "metadata": {},
   "outputs": [
    {
     "data": {
      "text/plain": [
       "array([[0.56190087, 0.89399214, 0.85856911, 0.68789245],\n",
       "       [0.92752179, 0.77144822, 0.6383895 , 0.68217329],\n",
       "       [0.79478909, 0.0833989 , 0.64382426, 0.34593324],\n",
       "       [0.85759326, 0.66330383, 0.15768913, 0.36247904]])"
      ]
     },
     "execution_count": 42,
     "metadata": {},
     "output_type": "execute_result"
    }
   ],
   "source": [
    "a"
   ]
  },
  {
   "cell_type": "code",
   "execution_count": 43,
   "metadata": {},
   "outputs": [],
   "source": [
    "c=a>0.6"
   ]
  },
  {
   "cell_type": "code",
   "execution_count": 44,
   "metadata": {},
   "outputs": [
    {
     "data": {
      "text/plain": [
       "array([[False,  True,  True,  True],\n",
       "       [ True,  True,  True,  True],\n",
       "       [ True, False,  True, False],\n",
       "       [ True,  True, False, False]])"
      ]
     },
     "execution_count": 44,
     "metadata": {},
     "output_type": "execute_result"
    }
   ],
   "source": [
    "c"
   ]
  },
  {
   "cell_type": "code",
   "execution_count": 47,
   "metadata": {},
   "outputs": [],
   "source": [
    "b=a[a>0.5]"
   ]
  },
  {
   "cell_type": "code",
   "execution_count": 48,
   "metadata": {},
   "outputs": [
    {
     "data": {
      "text/plain": [
       "array([0.56190087, 0.89399214, 0.85856911, 0.68789245, 0.92752179,\n",
       "       0.77144822, 0.6383895 , 0.68217329, 0.79478909, 0.64382426,\n",
       "       0.85759326, 0.66330383])"
      ]
     },
     "execution_count": 48,
     "metadata": {},
     "output_type": "execute_result"
    }
   ],
   "source": [
    "b"
   ]
  },
  {
   "cell_type": "code",
   "execution_count": 49,
   "metadata": {},
   "outputs": [
    {
     "ename": "IndexError",
     "evalue": "arrays used as indices must be of integer (or boolean) type",
     "output_type": "error",
     "traceback": [
      "\u001b[1;31m---------------------------------------------------------------------------\u001b[0m",
      "\u001b[1;31mIndexError\u001b[0m                                Traceback (most recent call last)",
      "\u001b[1;32m<ipython-input-49-eadfc207c266>\u001b[0m in \u001b[0;36m<module>\u001b[1;34m()\u001b[0m\n\u001b[1;32m----> 1\u001b[1;33m \u001b[0md\u001b[0m\u001b[1;33m=\u001b[0m\u001b[0ma\u001b[0m\u001b[1;33m[\u001b[0m\u001b[0ma\u001b[0m\u001b[1;33m*\u001b[0m\u001b[1;36m0.5\u001b[0m\u001b[1;33m]\u001b[0m\u001b[1;33m\u001b[0m\u001b[0m\n\u001b[0m",
      "\u001b[1;31mIndexError\u001b[0m: arrays used as indices must be of integer (or boolean) type"
     ]
    }
   ],
   "source": [
    "d=a[a*0.5]"
   ]
  },
  {
   "cell_type": "code",
   "execution_count": 50,
   "metadata": {},
   "outputs": [
    {
     "data": {
      "text/plain": [
       "array([[0.56190087, 0.89399214, 0.85856911, 0.68789245],\n",
       "       [0.92752179, 0.77144822, 0.6383895 , 0.68217329],\n",
       "       [0.79478909, 0.0833989 , 0.64382426, 0.34593324],\n",
       "       [0.85759326, 0.66330383, 0.15768913, 0.36247904]])"
      ]
     },
     "execution_count": 50,
     "metadata": {},
     "output_type": "execute_result"
    }
   ],
   "source": [
    "a"
   ]
  },
  {
   "cell_type": "code",
   "execution_count": 52,
   "metadata": {},
   "outputs": [
    {
     "data": {
      "text/plain": [
       "array([0.64755626, 0.53414977, 0.07038328, 0.46137565, 0.75334382,\n",
       "       0.1858444 , 0.59865624, 0.38753215, 0.67855897, 0.22200117,\n",
       "       0.45061276, 0.30979589])"
      ]
     },
     "execution_count": 52,
     "metadata": {},
     "output_type": "execute_result"
    }
   ],
   "source": [
    "a=np.random.random(12)\n",
    "a"
   ]
  },
  {
   "cell_type": "code",
   "execution_count": 55,
   "metadata": {},
   "outputs": [
    {
     "data": {
      "text/plain": [
       "array([[0.64755626, 0.53414977, 0.07038328, 0.46137565, 0.75334382,\n",
       "        0.1858444 ],\n",
       "       [0.59865624, 0.38753215, 0.67855897, 0.22200117, 0.45061276,\n",
       "        0.30979589]])"
      ]
     },
     "execution_count": 55,
     "metadata": {},
     "output_type": "execute_result"
    }
   ],
   "source": [
    "a=a.reshape(2,6)\n",
    "a"
   ]
  },
  {
   "cell_type": "code",
   "execution_count": 58,
   "metadata": {},
   "outputs": [
    {
     "data": {
      "text/plain": [
       "array([[0.64755626, 0.53414977, 0.07038328, 0.46137565],\n",
       "       [0.75334382, 0.1858444 , 0.59865624, 0.38753215],\n",
       "       [0.67855897, 0.22200117, 0.45061276, 0.30979589]])"
      ]
     },
     "execution_count": 58,
     "metadata": {},
     "output_type": "execute_result"
    }
   ],
   "source": [
    "a.shape=(3,4)\n",
    "a"
   ]
  },
  {
   "cell_type": "code",
   "execution_count": 59,
   "metadata": {},
   "outputs": [
    {
     "data": {
      "text/plain": [
       "array([0.64755626, 0.53414977, 0.07038328, 0.46137565, 0.75334382,\n",
       "       0.1858444 , 0.59865624, 0.38753215, 0.67855897, 0.22200117,\n",
       "       0.45061276, 0.30979589])"
      ]
     },
     "execution_count": 59,
     "metadata": {},
     "output_type": "execute_result"
    }
   ],
   "source": [
    "a.ravel()"
   ]
  },
  {
   "cell_type": "code",
   "execution_count": 60,
   "metadata": {},
   "outputs": [],
   "source": [
    "b=a"
   ]
  },
  {
   "cell_type": "code",
   "execution_count": 61,
   "metadata": {},
   "outputs": [
    {
     "data": {
      "text/plain": [
       "array([[0.64755626, 0.53414977, 0.07038328, 0.46137565],\n",
       "       [0.75334382, 0.1858444 , 0.59865624, 0.38753215],\n",
       "       [0.67855897, 0.22200117, 0.45061276, 0.30979589]])"
      ]
     },
     "execution_count": 61,
     "metadata": {},
     "output_type": "execute_result"
    }
   ],
   "source": [
    "b"
   ]
  },
  {
   "cell_type": "code",
   "execution_count": 62,
   "metadata": {},
   "outputs": [
    {
     "data": {
      "text/plain": [
       "array([[0.64755626, 0.53414977, 0.07038328, 0.46137565],\n",
       "       [0.75334382, 0.1858444 , 0.59865624, 0.38753215],\n",
       "       [0.67855897, 0.22200117, 0.45061276, 0.30979589]])"
      ]
     },
     "execution_count": 62,
     "metadata": {},
     "output_type": "execute_result"
    }
   ],
   "source": [
    "a"
   ]
  },
  {
   "cell_type": "code",
   "execution_count": 63,
   "metadata": {},
   "outputs": [
    {
     "data": {
      "text/plain": [
       "array([[0.64755626, 0.53414977, 0.07038328, 0.46137565, 0.75334382,\n",
       "        0.1858444 ],\n",
       "       [0.59865624, 0.38753215, 0.67855897, 0.22200117, 0.45061276,\n",
       "        0.30979589]])"
      ]
     },
     "execution_count": 63,
     "metadata": {},
     "output_type": "execute_result"
    }
   ],
   "source": [
    "a.shape=(2,6)\n",
    "a"
   ]
  },
  {
   "cell_type": "code",
   "execution_count": 64,
   "metadata": {},
   "outputs": [
    {
     "data": {
      "text/plain": [
       "array([[0.64755626, 0.59865624],\n",
       "       [0.53414977, 0.38753215],\n",
       "       [0.07038328, 0.67855897],\n",
       "       [0.46137565, 0.22200117],\n",
       "       [0.75334382, 0.45061276],\n",
       "       [0.1858444 , 0.30979589]])"
      ]
     },
     "execution_count": 64,
     "metadata": {},
     "output_type": "execute_result"
    }
   ],
   "source": [
    "a.transpose()"
   ]
  },
  {
   "cell_type": "code",
   "execution_count": 70,
   "metadata": {},
   "outputs": [
    {
     "data": {
      "text/plain": [
       "array([[ 0,  1,  2,  3],\n",
       "       [ 4,  5,  6,  7],\n",
       "       [ 8,  9, 10, 11],\n",
       "       [12, 13, 14, 15]])"
      ]
     },
     "execution_count": 70,
     "metadata": {},
     "output_type": "execute_result"
    }
   ],
   "source": [
    "g=np.arange(16).reshape(4,4)\n",
    "g"
   ]
  },
  {
   "cell_type": "code",
   "execution_count": 71,
   "metadata": {},
   "outputs": [
    {
     "ename": "AttributeError",
     "evalue": "module 'numpy' has no attribute 'hspilt'",
     "output_type": "error",
     "traceback": [
      "\u001b[1;31m---------------------------------------------------------------------------\u001b[0m",
      "\u001b[1;31mAttributeError\u001b[0m                            Traceback (most recent call last)",
      "\u001b[1;32m<ipython-input-71-e1103d757435>\u001b[0m in \u001b[0;36m<module>\u001b[1;34m()\u001b[0m\n\u001b[1;32m----> 1\u001b[1;33m \u001b[1;33m[\u001b[0m\u001b[0mb\u001b[0m\u001b[1;33m,\u001b[0m\u001b[0mc\u001b[0m\u001b[1;33m]\u001b[0m \u001b[1;33m=\u001b[0m \u001b[0mnp\u001b[0m\u001b[1;33m.\u001b[0m\u001b[0mhspilt\u001b[0m\u001b[1;33m(\u001b[0m\u001b[0mg\u001b[0m\u001b[1;33m,\u001b[0m\u001b[1;36m2\u001b[0m\u001b[1;33m)\u001b[0m\u001b[1;33m\u001b[0m\u001b[0m\n\u001b[0m",
      "\u001b[1;31mAttributeError\u001b[0m: module 'numpy' has no attribute 'hspilt'"
     ]
    }
   ],
   "source": [
    "[b,c] = np.hspilt(g,2)"
   ]
  },
  {
   "cell_type": "code",
   "execution_count": 72,
   "metadata": {},
   "outputs": [],
   "source": [
    "a=np.arange(16).reshape(4,4)"
   ]
  },
  {
   "cell_type": "code",
   "execution_count": 73,
   "metadata": {},
   "outputs": [
    {
     "data": {
      "text/plain": [
       "array([[ 0,  1,  2,  3],\n",
       "       [ 4,  5,  6,  7],\n",
       "       [ 8,  9, 10, 11],\n",
       "       [12, 13, 14, 15]])"
      ]
     },
     "execution_count": 73,
     "metadata": {},
     "output_type": "execute_result"
    }
   ],
   "source": [
    "a"
   ]
  },
  {
   "cell_type": "code",
   "execution_count": 74,
   "metadata": {},
   "outputs": [],
   "source": [
    "c=a.copy()"
   ]
  },
  {
   "cell_type": "code",
   "execution_count": 75,
   "metadata": {},
   "outputs": [
    {
     "data": {
      "text/plain": [
       "array([[ 0,  1,  2,  3,  4,  5,  6,  7],\n",
       "       [ 8,  9, 10, 11, 12, 13, 14, 15]])"
      ]
     },
     "execution_count": 75,
     "metadata": {},
     "output_type": "execute_result"
    }
   ],
   "source": [
    "c.shape=(2,8)\n",
    "c"
   ]
  },
  {
   "cell_type": "code",
   "execution_count": 87,
   "metadata": {},
   "outputs": [],
   "source": [
    "a=np.array([(1,'first',0.2,1+2j),(2,'second',0.4,1-2j),(3,'third',0.3,3+2j)],dtype=[('id','i2'),('position','a6'),('value','f4'),('complex','c8')])"
   ]
  },
  {
   "cell_type": "code",
   "execution_count": 88,
   "metadata": {},
   "outputs": [
    {
     "data": {
      "text/plain": [
       "array([(1, b'first', 0.2, 1.+2.j), (2, b'second', 0.4, 1.-2.j),\n",
       "       (3, b'third', 0.3, 3.+2.j)],\n",
       "      dtype=[('id', '<i2'), ('position', 'S6'), ('value', '<f4'), ('complex', '<c8')])"
      ]
     },
     "execution_count": 88,
     "metadata": {},
     "output_type": "execute_result"
    }
   ],
   "source": [
    "a"
   ]
  },
  {
   "cell_type": "code",
   "execution_count": 89,
   "metadata": {},
   "outputs": [
    {
     "data": {
      "text/plain": [
       "(1, b'first', 0.2, 1.+2.j)"
      ]
     },
     "execution_count": 89,
     "metadata": {},
     "output_type": "execute_result"
    }
   ],
   "source": [
    "a[0]"
   ]
  },
  {
   "cell_type": "code",
   "execution_count": 90,
   "metadata": {},
   "outputs": [
    {
     "data": {
      "text/plain": [
       "(2, b'second', 0.4, 1.-2.j)"
      ]
     },
     "execution_count": 90,
     "metadata": {},
     "output_type": "execute_result"
    }
   ],
   "source": [
    "a[1]"
   ]
  },
  {
   "cell_type": "code",
   "execution_count": 91,
   "metadata": {},
   "outputs": [
    {
     "data": {
      "text/plain": [
       "(3, b'third', 0.3, 3.+2.j)"
      ]
     },
     "execution_count": 91,
     "metadata": {},
     "output_type": "execute_result"
    }
   ],
   "source": [
    "a[2]"
   ]
  },
  {
   "cell_type": "code",
   "execution_count": 94,
   "metadata": {},
   "outputs": [
    {
     "data": {
      "text/plain": [
       "array([1, 2, 3], dtype=int16)"
      ]
     },
     "execution_count": 94,
     "metadata": {},
     "output_type": "execute_result"
    }
   ],
   "source": [
    "a['id']"
   ]
  },
  {
   "cell_type": "code",
   "execution_count": 95,
   "metadata": {},
   "outputs": [
    {
     "data": {
      "text/plain": [
       "array([b'first', b'second', b'third'], dtype='|S6')"
      ]
     },
     "execution_count": 95,
     "metadata": {},
     "output_type": "execute_result"
    }
   ],
   "source": [
    "a['position']"
   ]
  },
  {
   "cell_type": "code",
   "execution_count": 96,
   "metadata": {},
   "outputs": [
    {
     "data": {
      "text/plain": [
       "array([0.2, 0.4, 0.3], dtype=float32)"
      ]
     },
     "execution_count": 96,
     "metadata": {},
     "output_type": "execute_result"
    }
   ],
   "source": [
    "a['value']"
   ]
  },
  {
   "cell_type": "code",
   "execution_count": 97,
   "metadata": {},
   "outputs": [
    {
     "data": {
      "text/plain": [
       "array([1.+2.j, 1.-2.j, 3.+2.j], dtype=complex64)"
      ]
     },
     "execution_count": 97,
     "metadata": {},
     "output_type": "execute_result"
    }
   ],
   "source": [
    "a['complex']"
   ]
  },
  {
   "cell_type": "code",
   "execution_count": 98,
   "metadata": {},
   "outputs": [],
   "source": [
    "a.dtype.names=('idx','order','values','cplx')"
   ]
  },
  {
   "cell_type": "code",
   "execution_count": 99,
   "metadata": {},
   "outputs": [
    {
     "data": {
      "text/plain": [
       "array([(1, b'first', 0.2, 1.+2.j), (2, b'second', 0.4, 1.-2.j),\n",
       "       (3, b'third', 0.3, 3.+2.j)],\n",
       "      dtype=[('idx', '<i2'), ('order', 'S6'), ('values', '<f4'), ('cplx', '<c8')])"
      ]
     },
     "execution_count": 99,
     "metadata": {},
     "output_type": "execute_result"
    }
   ],
   "source": [
    "a"
   ]
  },
  {
   "cell_type": "code",
   "execution_count": 100,
   "metadata": {},
   "outputs": [],
   "source": [
    "np.save('saved_data',a)"
   ]
  },
  {
   "cell_type": "code",
   "execution_count": 102,
   "metadata": {},
   "outputs": [],
   "source": [
    "data=np.load('saved_data.npy')"
   ]
  },
  {
   "cell_type": "code",
   "execution_count": 103,
   "metadata": {},
   "outputs": [
    {
     "data": {
      "text/plain": [
       "array([(1, b'first', 0.2, 1.+2.j), (2, b'second', 0.4, 1.-2.j),\n",
       "       (3, b'third', 0.3, 3.+2.j)],\n",
       "      dtype=[('idx', '<i2'), ('order', 'S6'), ('values', '<f4'), ('cplx', '<c8')])"
      ]
     },
     "execution_count": 103,
     "metadata": {},
     "output_type": "execute_result"
    }
   ],
   "source": [
    "data"
   ]
  },
  {
   "cell_type": "code",
   "execution_count": 104,
   "metadata": {},
   "outputs": [
    {
     "data": {
      "text/plain": [
       "array([(1, b'first', 0.2, 1.+2.j), (2, b'second', 0.4, 1.-2.j),\n",
       "       (3, b'third', 0.3, 3.+2.j)],\n",
       "      dtype=[('idx', '<i2'), ('order', 'S6'), ('values', '<f4'), ('cplx', '<c8')])"
      ]
     },
     "execution_count": 104,
     "metadata": {},
     "output_type": "execute_result"
    }
   ],
   "source": [
    "data=np.load('saved_data.npy')\n",
    "data"
   ]
  },
  {
   "cell_type": "code",
   "execution_count": null,
   "metadata": {},
   "outputs": [],
   "source": []
  },
  {
   "cell_type": "code",
   "execution_count": null,
   "metadata": {},
   "outputs": [],
   "source": []
  },
  {
   "cell_type": "code",
   "execution_count": 105,
   "metadata": {},
   "outputs": [
    {
     "ename": "ValueError",
     "evalue": "Some errors were detected !\n    Line #2 (got 13 columns instead of 12)\n    Line #3 (got 13 columns instead of 12)\n    Line #4 (got 13 columns instead of 12)\n    Line #5 (got 13 columns instead of 12)\n    Line #6 (got 13 columns instead of 12)\n    Line #7 (got 13 columns instead of 12)\n    Line #8 (got 13 columns instead of 12)\n    Line #9 (got 13 columns instead of 12)\n    Line #10 (got 13 columns instead of 12)\n    Line #11 (got 13 columns instead of 12)\n    Line #12 (got 13 columns instead of 12)\n    Line #13 (got 13 columns instead of 12)\n    Line #14 (got 13 columns instead of 12)\n    Line #15 (got 13 columns instead of 12)\n    Line #16 (got 13 columns instead of 12)\n    Line #17 (got 13 columns instead of 12)\n    Line #18 (got 13 columns instead of 12)\n    Line #19 (got 13 columns instead of 12)\n    Line #20 (got 13 columns instead of 12)\n    Line #21 (got 13 columns instead of 12)\n    Line #22 (got 13 columns instead of 12)\n    Line #23 (got 13 columns instead of 12)\n    Line #24 (got 13 columns instead of 12)\n    Line #25 (got 13 columns instead of 12)\n    Line #26 (got 13 columns instead of 12)\n    Line #27 (got 13 columns instead of 12)\n    Line #28 (got 13 columns instead of 12)\n    Line #29 (got 13 columns instead of 12)\n    Line #30 (got 13 columns instead of 12)\n    Line #31 (got 13 columns instead of 12)\n    Line #32 (got 13 columns instead of 12)\n    Line #33 (got 13 columns instead of 12)\n    Line #34 (got 13 columns instead of 12)\n    Line #35 (got 13 columns instead of 12)\n    Line #36 (got 13 columns instead of 12)\n    Line #37 (got 13 columns instead of 12)\n    Line #38 (got 13 columns instead of 12)\n    Line #39 (got 13 columns instead of 12)\n    Line #40 (got 13 columns instead of 12)\n    Line #41 (got 13 columns instead of 12)\n    Line #42 (got 13 columns instead of 12)\n    Line #43 (got 13 columns instead of 12)\n    Line #44 (got 13 columns instead of 12)\n    Line #45 (got 13 columns instead of 12)\n    Line #46 (got 13 columns instead of 12)\n    Line #47 (got 13 columns instead of 12)\n    Line #48 (got 13 columns instead of 12)\n    Line #49 (got 13 columns instead of 12)\n    Line #50 (got 13 columns instead of 12)\n    Line #51 (got 13 columns instead of 12)\n    Line #52 (got 13 columns instead of 12)\n    Line #53 (got 13 columns instead of 12)\n    Line #54 (got 13 columns instead of 12)\n    Line #55 (got 13 columns instead of 12)\n    Line #56 (got 13 columns instead of 12)\n    Line #57 (got 13 columns instead of 12)\n    Line #58 (got 13 columns instead of 12)\n    Line #59 (got 13 columns instead of 12)\n    Line #60 (got 13 columns instead of 12)\n    Line #61 (got 13 columns instead of 12)\n    Line #62 (got 13 columns instead of 12)\n    Line #63 (got 13 columns instead of 12)\n    Line #64 (got 13 columns instead of 12)\n    Line #65 (got 13 columns instead of 12)\n    Line #66 (got 13 columns instead of 12)\n    Line #67 (got 13 columns instead of 12)\n    Line #68 (got 13 columns instead of 12)\n    Line #69 (got 13 columns instead of 12)\n    Line #70 (got 13 columns instead of 12)\n    Line #71 (got 13 columns instead of 12)\n    Line #72 (got 13 columns instead of 12)\n    Line #73 (got 13 columns instead of 12)\n    Line #74 (got 13 columns instead of 12)\n    Line #75 (got 13 columns instead of 12)\n    Line #76 (got 13 columns instead of 12)\n    Line #77 (got 13 columns instead of 12)\n    Line #78 (got 13 columns instead of 12)\n    Line #79 (got 13 columns instead of 12)\n    Line #80 (got 13 columns instead of 12)\n    Line #81 (got 13 columns instead of 12)\n    Line #82 (got 13 columns instead of 12)\n    Line #83 (got 13 columns instead of 12)\n    Line #84 (got 13 columns instead of 12)\n    Line #85 (got 13 columns instead of 12)\n    Line #86 (got 13 columns instead of 12)\n    Line #87 (got 13 columns instead of 12)\n    Line #88 (got 13 columns instead of 12)\n    Line #89 (got 13 columns instead of 12)\n    Line #90 (got 13 columns instead of 12)\n    Line #91 (got 13 columns instead of 12)\n    Line #92 (got 13 columns instead of 12)\n    Line #93 (got 13 columns instead of 12)\n    Line #94 (got 13 columns instead of 12)\n    Line #95 (got 13 columns instead of 12)\n    Line #96 (got 13 columns instead of 12)\n    Line #97 (got 13 columns instead of 12)\n    Line #98 (got 13 columns instead of 12)\n    Line #99 (got 13 columns instead of 12)\n    Line #100 (got 13 columns instead of 12)\n    Line #101 (got 13 columns instead of 12)\n    Line #102 (got 13 columns instead of 12)\n    Line #103 (got 13 columns instead of 12)\n    Line #104 (got 13 columns instead of 12)\n    Line #105 (got 13 columns instead of 12)\n    Line #106 (got 13 columns instead of 12)\n    Line #107 (got 13 columns instead of 12)\n    Line #108 (got 13 columns instead of 12)\n    Line #109 (got 13 columns instead of 12)\n    Line #110 (got 13 columns instead of 12)\n    Line #111 (got 13 columns instead of 12)\n    Line #112 (got 13 columns instead of 12)\n    Line #113 (got 13 columns instead of 12)\n    Line #114 (got 13 columns instead of 12)\n    Line #115 (got 13 columns instead of 12)\n    Line #116 (got 13 columns instead of 12)\n    Line #117 (got 13 columns instead of 12)\n    Line #118 (got 13 columns instead of 12)\n    Line #119 (got 13 columns instead of 12)\n    Line #120 (got 13 columns instead of 12)\n    Line #121 (got 13 columns instead of 12)\n    Line #122 (got 13 columns instead of 12)\n    Line #123 (got 13 columns instead of 12)\n    Line #124 (got 13 columns instead of 12)\n    Line #125 (got 13 columns instead of 12)\n    Line #126 (got 13 columns instead of 12)\n    Line #127 (got 13 columns instead of 12)\n    Line #128 (got 13 columns instead of 12)\n    Line #129 (got 13 columns instead of 12)\n    Line #130 (got 13 columns instead of 12)\n    Line #131 (got 13 columns instead of 12)\n    Line #132 (got 13 columns instead of 12)\n    Line #133 (got 13 columns instead of 12)\n    Line #134 (got 13 columns instead of 12)\n    Line #135 (got 13 columns instead of 12)\n    Line #136 (got 13 columns instead of 12)\n    Line #137 (got 13 columns instead of 12)\n    Line #138 (got 13 columns instead of 12)\n    Line #139 (got 13 columns instead of 12)\n    Line #140 (got 13 columns instead of 12)\n    Line #141 (got 13 columns instead of 12)\n    Line #142 (got 13 columns instead of 12)\n    Line #143 (got 13 columns instead of 12)\n    Line #144 (got 13 columns instead of 12)\n    Line #145 (got 13 columns instead of 12)\n    Line #146 (got 13 columns instead of 12)\n    Line #147 (got 13 columns instead of 12)\n    Line #148 (got 13 columns instead of 12)\n    Line #149 (got 13 columns instead of 12)\n    Line #150 (got 13 columns instead of 12)\n    Line #151 (got 13 columns instead of 12)\n    Line #152 (got 13 columns instead of 12)\n    Line #153 (got 13 columns instead of 12)\n    Line #154 (got 13 columns instead of 12)\n    Line #155 (got 13 columns instead of 12)\n    Line #156 (got 13 columns instead of 12)\n    Line #157 (got 13 columns instead of 12)\n    Line #158 (got 13 columns instead of 12)\n    Line #159 (got 13 columns instead of 12)\n    Line #160 (got 13 columns instead of 12)\n    Line #161 (got 13 columns instead of 12)\n    Line #162 (got 13 columns instead of 12)\n    Line #163 (got 13 columns instead of 12)\n    Line #164 (got 13 columns instead of 12)\n    Line #165 (got 13 columns instead of 12)\n    Line #166 (got 13 columns instead of 12)\n    Line #167 (got 13 columns instead of 12)\n    Line #168 (got 13 columns instead of 12)\n    Line #169 (got 13 columns instead of 12)\n    Line #170 (got 13 columns instead of 12)\n    Line #171 (got 13 columns instead of 12)\n    Line #172 (got 13 columns instead of 12)\n    Line #173 (got 13 columns instead of 12)\n    Line #174 (got 13 columns instead of 12)\n    Line #175 (got 13 columns instead of 12)\n    Line #176 (got 13 columns instead of 12)\n    Line #177 (got 13 columns instead of 12)\n    Line #178 (got 13 columns instead of 12)\n    Line #179 (got 13 columns instead of 12)\n    Line #180 (got 13 columns instead of 12)\n    Line #181 (got 13 columns instead of 12)\n    Line #182 (got 13 columns instead of 12)\n    Line #183 (got 13 columns instead of 12)\n    Line #184 (got 13 columns instead of 12)\n    Line #185 (got 13 columns instead of 12)\n    Line #186 (got 13 columns instead of 12)\n    Line #187 (got 13 columns instead of 12)\n    Line #188 (got 13 columns instead of 12)\n    Line #189 (got 13 columns instead of 12)\n    Line #190 (got 13 columns instead of 12)\n    Line #191 (got 13 columns instead of 12)\n    Line #192 (got 13 columns instead of 12)\n    Line #193 (got 13 columns instead of 12)\n    Line #194 (got 13 columns instead of 12)\n    Line #195 (got 13 columns instead of 12)\n    Line #196 (got 13 columns instead of 12)\n    Line #197 (got 13 columns instead of 12)\n    Line #198 (got 13 columns instead of 12)\n    Line #199 (got 13 columns instead of 12)\n    Line #200 (got 13 columns instead of 12)\n    Line #201 (got 13 columns instead of 12)\n    Line #202 (got 13 columns instead of 12)\n    Line #203 (got 13 columns instead of 12)\n    Line #204 (got 13 columns instead of 12)\n    Line #205 (got 13 columns instead of 12)\n    Line #206 (got 13 columns instead of 12)\n    Line #207 (got 13 columns instead of 12)\n    Line #208 (got 13 columns instead of 12)\n    Line #209 (got 13 columns instead of 12)\n    Line #210 (got 13 columns instead of 12)\n    Line #211 (got 13 columns instead of 12)\n    Line #212 (got 13 columns instead of 12)\n    Line #213 (got 13 columns instead of 12)\n    Line #214 (got 13 columns instead of 12)\n    Line #215 (got 13 columns instead of 12)\n    Line #216 (got 13 columns instead of 12)\n    Line #217 (got 13 columns instead of 12)\n    Line #218 (got 13 columns instead of 12)\n    Line #219 (got 13 columns instead of 12)\n    Line #220 (got 13 columns instead of 12)\n    Line #221 (got 13 columns instead of 12)\n    Line #222 (got 13 columns instead of 12)\n    Line #223 (got 13 columns instead of 12)\n    Line #224 (got 13 columns instead of 12)\n    Line #225 (got 13 columns instead of 12)\n    Line #226 (got 13 columns instead of 12)\n    Line #227 (got 13 columns instead of 12)\n    Line #228 (got 13 columns instead of 12)\n    Line #229 (got 13 columns instead of 12)\n    Line #230 (got 13 columns instead of 12)\n    Line #231 (got 13 columns instead of 12)\n    Line #232 (got 13 columns instead of 12)\n    Line #233 (got 13 columns instead of 12)\n    Line #234 (got 13 columns instead of 12)\n    Line #235 (got 13 columns instead of 12)\n    Line #236 (got 13 columns instead of 12)\n    Line #237 (got 13 columns instead of 12)\n    Line #238 (got 13 columns instead of 12)\n    Line #239 (got 13 columns instead of 12)\n    Line #240 (got 13 columns instead of 12)\n    Line #241 (got 13 columns instead of 12)\n    Line #242 (got 13 columns instead of 12)\n    Line #243 (got 13 columns instead of 12)\n    Line #244 (got 13 columns instead of 12)\n    Line #245 (got 13 columns instead of 12)\n    Line #246 (got 13 columns instead of 12)\n    Line #247 (got 13 columns instead of 12)\n    Line #248 (got 13 columns instead of 12)\n    Line #249 (got 13 columns instead of 12)\n    Line #250 (got 13 columns instead of 12)\n    Line #251 (got 13 columns instead of 12)\n    Line #252 (got 13 columns instead of 12)\n    Line #253 (got 13 columns instead of 12)\n    Line #254 (got 13 columns instead of 12)\n    Line #255 (got 13 columns instead of 12)\n    Line #256 (got 13 columns instead of 12)\n    Line #257 (got 13 columns instead of 12)\n    Line #258 (got 13 columns instead of 12)\n    Line #259 (got 13 columns instead of 12)\n    Line #260 (got 13 columns instead of 12)\n    Line #261 (got 13 columns instead of 12)\n    Line #262 (got 13 columns instead of 12)\n    Line #263 (got 13 columns instead of 12)\n    Line #264 (got 13 columns instead of 12)\n    Line #265 (got 13 columns instead of 12)\n    Line #266 (got 13 columns instead of 12)\n    Line #267 (got 13 columns instead of 12)\n    Line #268 (got 13 columns instead of 12)\n    Line #269 (got 13 columns instead of 12)\n    Line #270 (got 13 columns instead of 12)\n    Line #271 (got 13 columns instead of 12)\n    Line #272 (got 13 columns instead of 12)\n    Line #273 (got 13 columns instead of 12)\n    Line #274 (got 13 columns instead of 12)\n    Line #275 (got 13 columns instead of 12)\n    Line #276 (got 13 columns instead of 12)\n    Line #277 (got 13 columns instead of 12)\n    Line #278 (got 13 columns instead of 12)\n    Line #279 (got 13 columns instead of 12)\n    Line #280 (got 13 columns instead of 12)\n    Line #281 (got 13 columns instead of 12)\n    Line #282 (got 13 columns instead of 12)\n    Line #283 (got 13 columns instead of 12)\n    Line #284 (got 13 columns instead of 12)\n    Line #285 (got 13 columns instead of 12)\n    Line #286 (got 13 columns instead of 12)\n    Line #287 (got 13 columns instead of 12)\n    Line #288 (got 13 columns instead of 12)\n    Line #289 (got 13 columns instead of 12)\n    Line #290 (got 13 columns instead of 12)\n    Line #291 (got 13 columns instead of 12)\n    Line #292 (got 13 columns instead of 12)\n    Line #293 (got 13 columns instead of 12)\n    Line #294 (got 13 columns instead of 12)\n    Line #295 (got 13 columns instead of 12)\n    Line #296 (got 13 columns instead of 12)\n    Line #297 (got 13 columns instead of 12)\n    Line #298 (got 13 columns instead of 12)\n    Line #299 (got 13 columns instead of 12)\n    Line #300 (got 13 columns instead of 12)\n    Line #301 (got 13 columns instead of 12)\n    Line #302 (got 13 columns instead of 12)\n    Line #303 (got 13 columns instead of 12)\n    Line #304 (got 13 columns instead of 12)\n    Line #305 (got 13 columns instead of 12)\n    Line #306 (got 13 columns instead of 12)\n    Line #307 (got 13 columns instead of 12)\n    Line #308 (got 13 columns instead of 12)\n    Line #309 (got 13 columns instead of 12)\n    Line #310 (got 13 columns instead of 12)\n    Line #311 (got 13 columns instead of 12)\n    Line #312 (got 13 columns instead of 12)\n    Line #313 (got 13 columns instead of 12)\n    Line #314 (got 13 columns instead of 12)\n    Line #315 (got 13 columns instead of 12)\n    Line #316 (got 13 columns instead of 12)\n    Line #317 (got 13 columns instead of 12)\n    Line #318 (got 13 columns instead of 12)\n    Line #319 (got 13 columns instead of 12)\n    Line #320 (got 13 columns instead of 12)\n    Line #321 (got 13 columns instead of 12)\n    Line #322 (got 13 columns instead of 12)\n    Line #323 (got 13 columns instead of 12)\n    Line #324 (got 13 columns instead of 12)\n    Line #325 (got 13 columns instead of 12)\n    Line #326 (got 13 columns instead of 12)\n    Line #327 (got 13 columns instead of 12)\n    Line #328 (got 13 columns instead of 12)\n    Line #329 (got 13 columns instead of 12)\n    Line #330 (got 13 columns instead of 12)\n    Line #331 (got 13 columns instead of 12)\n    Line #332 (got 13 columns instead of 12)\n    Line #333 (got 13 columns instead of 12)\n    Line #334 (got 13 columns instead of 12)\n    Line #335 (got 13 columns instead of 12)\n    Line #336 (got 13 columns instead of 12)\n    Line #337 (got 13 columns instead of 12)\n    Line #338 (got 13 columns instead of 12)\n    Line #339 (got 13 columns instead of 12)\n    Line #340 (got 13 columns instead of 12)\n    Line #341 (got 13 columns instead of 12)\n    Line #342 (got 13 columns instead of 12)\n    Line #343 (got 13 columns instead of 12)\n    Line #344 (got 13 columns instead of 12)\n    Line #345 (got 13 columns instead of 12)\n    Line #346 (got 13 columns instead of 12)\n    Line #347 (got 13 columns instead of 12)\n    Line #348 (got 13 columns instead of 12)\n    Line #349 (got 13 columns instead of 12)\n    Line #350 (got 13 columns instead of 12)\n    Line #351 (got 13 columns instead of 12)\n    Line #352 (got 13 columns instead of 12)\n    Line #353 (got 13 columns instead of 12)\n    Line #354 (got 13 columns instead of 12)\n    Line #355 (got 13 columns instead of 12)\n    Line #356 (got 13 columns instead of 12)\n    Line #357 (got 13 columns instead of 12)\n    Line #358 (got 13 columns instead of 12)\n    Line #359 (got 13 columns instead of 12)\n    Line #360 (got 13 columns instead of 12)\n    Line #361 (got 13 columns instead of 12)\n    Line #362 (got 13 columns instead of 12)\n    Line #363 (got 13 columns instead of 12)\n    Line #364 (got 13 columns instead of 12)\n    Line #365 (got 13 columns instead of 12)\n    Line #366 (got 13 columns instead of 12)\n    Line #367 (got 13 columns instead of 12)\n    Line #368 (got 13 columns instead of 12)\n    Line #369 (got 13 columns instead of 12)\n    Line #370 (got 13 columns instead of 12)\n    Line #371 (got 13 columns instead of 12)\n    Line #372 (got 13 columns instead of 12)\n    Line #373 (got 13 columns instead of 12)\n    Line #374 (got 13 columns instead of 12)\n    Line #375 (got 13 columns instead of 12)\n    Line #376 (got 13 columns instead of 12)\n    Line #377 (got 13 columns instead of 12)\n    Line #378 (got 13 columns instead of 12)\n    Line #379 (got 13 columns instead of 12)\n    Line #380 (got 13 columns instead of 12)\n    Line #381 (got 13 columns instead of 12)\n    Line #382 (got 13 columns instead of 12)\n    Line #383 (got 13 columns instead of 12)\n    Line #384 (got 13 columns instead of 12)\n    Line #385 (got 13 columns instead of 12)\n    Line #386 (got 13 columns instead of 12)\n    Line #387 (got 13 columns instead of 12)\n    Line #388 (got 13 columns instead of 12)\n    Line #389 (got 13 columns instead of 12)\n    Line #390 (got 13 columns instead of 12)\n    Line #391 (got 13 columns instead of 12)\n    Line #392 (got 13 columns instead of 12)\n    Line #393 (got 13 columns instead of 12)\n    Line #394 (got 13 columns instead of 12)\n    Line #395 (got 13 columns instead of 12)\n    Line #396 (got 13 columns instead of 12)\n    Line #397 (got 13 columns instead of 12)\n    Line #398 (got 13 columns instead of 12)\n    Line #399 (got 13 columns instead of 12)\n    Line #400 (got 13 columns instead of 12)\n    Line #401 (got 13 columns instead of 12)\n    Line #402 (got 13 columns instead of 12)\n    Line #403 (got 13 columns instead of 12)\n    Line #404 (got 13 columns instead of 12)\n    Line #405 (got 13 columns instead of 12)\n    Line #406 (got 13 columns instead of 12)\n    Line #407 (got 13 columns instead of 12)\n    Line #408 (got 13 columns instead of 12)\n    Line #409 (got 13 columns instead of 12)\n    Line #410 (got 13 columns instead of 12)\n    Line #411 (got 13 columns instead of 12)\n    Line #412 (got 13 columns instead of 12)\n    Line #413 (got 13 columns instead of 12)\n    Line #414 (got 13 columns instead of 12)\n    Line #415 (got 13 columns instead of 12)\n    Line #416 (got 13 columns instead of 12)\n    Line #417 (got 13 columns instead of 12)\n    Line #418 (got 13 columns instead of 12)\n    Line #419 (got 13 columns instead of 12)\n    Line #420 (got 13 columns instead of 12)\n    Line #421 (got 13 columns instead of 12)\n    Line #422 (got 13 columns instead of 12)\n    Line #423 (got 13 columns instead of 12)\n    Line #424 (got 13 columns instead of 12)\n    Line #425 (got 13 columns instead of 12)\n    Line #426 (got 13 columns instead of 12)\n    Line #427 (got 13 columns instead of 12)\n    Line #428 (got 13 columns instead of 12)\n    Line #429 (got 13 columns instead of 12)\n    Line #430 (got 13 columns instead of 12)\n    Line #431 (got 13 columns instead of 12)\n    Line #432 (got 13 columns instead of 12)\n    Line #433 (got 13 columns instead of 12)\n    Line #434 (got 13 columns instead of 12)\n    Line #435 (got 13 columns instead of 12)\n    Line #436 (got 13 columns instead of 12)\n    Line #437 (got 13 columns instead of 12)\n    Line #438 (got 13 columns instead of 12)\n    Line #439 (got 13 columns instead of 12)\n    Line #440 (got 13 columns instead of 12)\n    Line #441 (got 13 columns instead of 12)\n    Line #442 (got 13 columns instead of 12)\n    Line #443 (got 13 columns instead of 12)\n    Line #444 (got 13 columns instead of 12)\n    Line #445 (got 13 columns instead of 12)\n    Line #446 (got 13 columns instead of 12)\n    Line #447 (got 13 columns instead of 12)\n    Line #448 (got 13 columns instead of 12)\n    Line #449 (got 13 columns instead of 12)\n    Line #450 (got 13 columns instead of 12)\n    Line #451 (got 13 columns instead of 12)\n    Line #452 (got 13 columns instead of 12)\n    Line #453 (got 13 columns instead of 12)\n    Line #454 (got 13 columns instead of 12)\n    Line #455 (got 13 columns instead of 12)\n    Line #456 (got 13 columns instead of 12)\n    Line #457 (got 13 columns instead of 12)\n    Line #458 (got 13 columns instead of 12)\n    Line #459 (got 13 columns instead of 12)\n    Line #460 (got 13 columns instead of 12)\n    Line #461 (got 13 columns instead of 12)\n    Line #462 (got 13 columns instead of 12)\n    Line #463 (got 13 columns instead of 12)\n    Line #464 (got 13 columns instead of 12)\n    Line #465 (got 13 columns instead of 12)\n    Line #466 (got 13 columns instead of 12)\n    Line #467 (got 13 columns instead of 12)\n    Line #468 (got 13 columns instead of 12)\n    Line #469 (got 13 columns instead of 12)\n    Line #470 (got 13 columns instead of 12)\n    Line #471 (got 13 columns instead of 12)\n    Line #472 (got 13 columns instead of 12)\n    Line #473 (got 13 columns instead of 12)\n    Line #474 (got 13 columns instead of 12)\n    Line #475 (got 13 columns instead of 12)\n    Line #476 (got 13 columns instead of 12)\n    Line #477 (got 13 columns instead of 12)\n    Line #478 (got 13 columns instead of 12)\n    Line #479 (got 13 columns instead of 12)\n    Line #480 (got 13 columns instead of 12)\n    Line #481 (got 13 columns instead of 12)\n    Line #482 (got 13 columns instead of 12)\n    Line #483 (got 13 columns instead of 12)\n    Line #484 (got 13 columns instead of 12)\n    Line #485 (got 13 columns instead of 12)\n    Line #486 (got 13 columns instead of 12)\n    Line #487 (got 13 columns instead of 12)\n    Line #488 (got 13 columns instead of 12)\n    Line #489 (got 13 columns instead of 12)\n    Line #490 (got 13 columns instead of 12)\n    Line #491 (got 13 columns instead of 12)\n    Line #492 (got 13 columns instead of 12)\n    Line #493 (got 13 columns instead of 12)\n    Line #494 (got 13 columns instead of 12)\n    Line #495 (got 13 columns instead of 12)\n    Line #496 (got 13 columns instead of 12)\n    Line #497 (got 13 columns instead of 12)\n    Line #498 (got 13 columns instead of 12)\n    Line #499 (got 13 columns instead of 12)\n    Line #500 (got 13 columns instead of 12)\n    Line #501 (got 13 columns instead of 12)\n    Line #502 (got 13 columns instead of 12)\n    Line #503 (got 13 columns instead of 12)\n    Line #504 (got 13 columns instead of 12)\n    Line #505 (got 13 columns instead of 12)\n    Line #506 (got 13 columns instead of 12)\n    Line #507 (got 13 columns instead of 12)\n    Line #508 (got 13 columns instead of 12)\n    Line #509 (got 13 columns instead of 12)\n    Line #510 (got 13 columns instead of 12)\n    Line #511 (got 13 columns instead of 12)\n    Line #512 (got 13 columns instead of 12)\n    Line #513 (got 13 columns instead of 12)\n    Line #514 (got 13 columns instead of 12)\n    Line #515 (got 13 columns instead of 12)\n    Line #516 (got 13 columns instead of 12)\n    Line #517 (got 13 columns instead of 12)\n    Line #518 (got 13 columns instead of 12)\n    Line #519 (got 13 columns instead of 12)\n    Line #520 (got 13 columns instead of 12)\n    Line #521 (got 13 columns instead of 12)\n    Line #522 (got 13 columns instead of 12)\n    Line #523 (got 13 columns instead of 12)\n    Line #524 (got 13 columns instead of 12)\n    Line #525 (got 13 columns instead of 12)\n    Line #526 (got 13 columns instead of 12)\n    Line #527 (got 13 columns instead of 12)\n    Line #528 (got 13 columns instead of 12)\n    Line #529 (got 13 columns instead of 12)\n    Line #530 (got 13 columns instead of 12)\n    Line #531 (got 13 columns instead of 12)\n    Line #532 (got 13 columns instead of 12)\n    Line #533 (got 13 columns instead of 12)\n    Line #534 (got 13 columns instead of 12)\n    Line #535 (got 13 columns instead of 12)\n    Line #536 (got 13 columns instead of 12)\n    Line #537 (got 13 columns instead of 12)\n    Line #538 (got 13 columns instead of 12)\n    Line #539 (got 13 columns instead of 12)\n    Line #540 (got 13 columns instead of 12)\n    Line #541 (got 13 columns instead of 12)\n    Line #542 (got 13 columns instead of 12)\n    Line #543 (got 13 columns instead of 12)\n    Line #544 (got 13 columns instead of 12)\n    Line #545 (got 13 columns instead of 12)\n    Line #546 (got 13 columns instead of 12)\n    Line #547 (got 13 columns instead of 12)\n    Line #548 (got 13 columns instead of 12)\n    Line #549 (got 13 columns instead of 12)\n    Line #550 (got 13 columns instead of 12)\n    Line #551 (got 13 columns instead of 12)\n    Line #552 (got 13 columns instead of 12)\n    Line #553 (got 13 columns instead of 12)\n    Line #554 (got 13 columns instead of 12)\n    Line #555 (got 13 columns instead of 12)\n    Line #556 (got 13 columns instead of 12)\n    Line #557 (got 13 columns instead of 12)\n    Line #558 (got 13 columns instead of 12)\n    Line #559 (got 13 columns instead of 12)\n    Line #560 (got 13 columns instead of 12)\n    Line #561 (got 13 columns instead of 12)\n    Line #562 (got 13 columns instead of 12)\n    Line #563 (got 13 columns instead of 12)\n    Line #564 (got 13 columns instead of 12)\n    Line #565 (got 13 columns instead of 12)\n    Line #566 (got 13 columns instead of 12)\n    Line #567 (got 13 columns instead of 12)\n    Line #568 (got 13 columns instead of 12)\n    Line #569 (got 13 columns instead of 12)\n    Line #570 (got 13 columns instead of 12)\n    Line #571 (got 13 columns instead of 12)\n    Line #572 (got 13 columns instead of 12)\n    Line #573 (got 13 columns instead of 12)\n    Line #574 (got 13 columns instead of 12)\n    Line #575 (got 13 columns instead of 12)\n    Line #576 (got 13 columns instead of 12)\n    Line #577 (got 13 columns instead of 12)\n    Line #578 (got 13 columns instead of 12)\n    Line #579 (got 13 columns instead of 12)\n    Line #580 (got 13 columns instead of 12)\n    Line #581 (got 13 columns instead of 12)\n    Line #582 (got 13 columns instead of 12)\n    Line #583 (got 13 columns instead of 12)\n    Line #584 (got 13 columns instead of 12)\n    Line #585 (got 13 columns instead of 12)\n    Line #586 (got 13 columns instead of 12)\n    Line #587 (got 13 columns instead of 12)\n    Line #588 (got 13 columns instead of 12)\n    Line #589 (got 13 columns instead of 12)\n    Line #590 (got 13 columns instead of 12)\n    Line #591 (got 13 columns instead of 12)\n    Line #592 (got 13 columns instead of 12)\n    Line #593 (got 13 columns instead of 12)\n    Line #594 (got 13 columns instead of 12)\n    Line #595 (got 13 columns instead of 12)\n    Line #596 (got 13 columns instead of 12)\n    Line #597 (got 13 columns instead of 12)\n    Line #598 (got 13 columns instead of 12)\n    Line #599 (got 13 columns instead of 12)\n    Line #600 (got 13 columns instead of 12)\n    Line #601 (got 13 columns instead of 12)\n    Line #602 (got 13 columns instead of 12)\n    Line #603 (got 13 columns instead of 12)\n    Line #604 (got 13 columns instead of 12)\n    Line #605 (got 13 columns instead of 12)\n    Line #606 (got 13 columns instead of 12)\n    Line #607 (got 13 columns instead of 12)\n    Line #608 (got 13 columns instead of 12)\n    Line #609 (got 13 columns instead of 12)\n    Line #610 (got 13 columns instead of 12)\n    Line #611 (got 13 columns instead of 12)\n    Line #612 (got 13 columns instead of 12)\n    Line #613 (got 13 columns instead of 12)\n    Line #614 (got 13 columns instead of 12)\n    Line #615 (got 13 columns instead of 12)\n    Line #616 (got 13 columns instead of 12)\n    Line #617 (got 13 columns instead of 12)\n    Line #618 (got 13 columns instead of 12)\n    Line #619 (got 13 columns instead of 12)\n    Line #620 (got 13 columns instead of 12)\n    Line #621 (got 13 columns instead of 12)\n    Line #622 (got 13 columns instead of 12)\n    Line #623 (got 13 columns instead of 12)\n    Line #624 (got 13 columns instead of 12)\n    Line #625 (got 13 columns instead of 12)\n    Line #626 (got 13 columns instead of 12)\n    Line #627 (got 13 columns instead of 12)\n    Line #628 (got 13 columns instead of 12)\n    Line #629 (got 13 columns instead of 12)\n    Line #630 (got 13 columns instead of 12)\n    Line #631 (got 13 columns instead of 12)\n    Line #632 (got 13 columns instead of 12)\n    Line #633 (got 13 columns instead of 12)\n    Line #634 (got 13 columns instead of 12)\n    Line #635 (got 13 columns instead of 12)\n    Line #636 (got 13 columns instead of 12)\n    Line #637 (got 13 columns instead of 12)\n    Line #638 (got 13 columns instead of 12)\n    Line #639 (got 13 columns instead of 12)\n    Line #640 (got 13 columns instead of 12)\n    Line #641 (got 13 columns instead of 12)\n    Line #642 (got 13 columns instead of 12)\n    Line #643 (got 13 columns instead of 12)\n    Line #644 (got 13 columns instead of 12)\n    Line #645 (got 13 columns instead of 12)\n    Line #646 (got 13 columns instead of 12)\n    Line #647 (got 13 columns instead of 12)\n    Line #648 (got 13 columns instead of 12)\n    Line #649 (got 13 columns instead of 12)\n    Line #650 (got 13 columns instead of 12)\n    Line #651 (got 13 columns instead of 12)\n    Line #652 (got 13 columns instead of 12)\n    Line #653 (got 13 columns instead of 12)\n    Line #654 (got 13 columns instead of 12)\n    Line #655 (got 13 columns instead of 12)\n    Line #656 (got 13 columns instead of 12)\n    Line #657 (got 13 columns instead of 12)\n    Line #658 (got 13 columns instead of 12)\n    Line #659 (got 13 columns instead of 12)\n    Line #660 (got 13 columns instead of 12)\n    Line #661 (got 13 columns instead of 12)\n    Line #662 (got 13 columns instead of 12)\n    Line #663 (got 13 columns instead of 12)\n    Line #664 (got 13 columns instead of 12)\n    Line #665 (got 13 columns instead of 12)\n    Line #666 (got 13 columns instead of 12)\n    Line #667 (got 13 columns instead of 12)\n    Line #668 (got 13 columns instead of 12)\n    Line #669 (got 13 columns instead of 12)\n    Line #670 (got 13 columns instead of 12)\n    Line #671 (got 13 columns instead of 12)\n    Line #672 (got 13 columns instead of 12)\n    Line #673 (got 13 columns instead of 12)\n    Line #674 (got 13 columns instead of 12)\n    Line #675 (got 13 columns instead of 12)\n    Line #676 (got 13 columns instead of 12)\n    Line #677 (got 13 columns instead of 12)\n    Line #678 (got 13 columns instead of 12)\n    Line #679 (got 13 columns instead of 12)\n    Line #680 (got 13 columns instead of 12)\n    Line #681 (got 13 columns instead of 12)\n    Line #682 (got 13 columns instead of 12)\n    Line #683 (got 13 columns instead of 12)\n    Line #684 (got 13 columns instead of 12)\n    Line #685 (got 13 columns instead of 12)\n    Line #686 (got 13 columns instead of 12)\n    Line #687 (got 13 columns instead of 12)\n    Line #688 (got 13 columns instead of 12)\n    Line #689 (got 13 columns instead of 12)\n    Line #690 (got 13 columns instead of 12)\n    Line #691 (got 13 columns instead of 12)\n    Line #692 (got 13 columns instead of 12)\n    Line #693 (got 13 columns instead of 12)\n    Line #694 (got 13 columns instead of 12)\n    Line #695 (got 13 columns instead of 12)\n    Line #696 (got 13 columns instead of 12)\n    Line #697 (got 13 columns instead of 12)\n    Line #698 (got 13 columns instead of 12)\n    Line #699 (got 13 columns instead of 12)\n    Line #700 (got 13 columns instead of 12)\n    Line #701 (got 13 columns instead of 12)\n    Line #702 (got 13 columns instead of 12)\n    Line #703 (got 13 columns instead of 12)\n    Line #704 (got 13 columns instead of 12)\n    Line #705 (got 13 columns instead of 12)\n    Line #706 (got 13 columns instead of 12)\n    Line #707 (got 13 columns instead of 12)\n    Line #708 (got 13 columns instead of 12)\n    Line #709 (got 13 columns instead of 12)\n    Line #710 (got 13 columns instead of 12)\n    Line #711 (got 13 columns instead of 12)\n    Line #712 (got 13 columns instead of 12)\n    Line #713 (got 13 columns instead of 12)\n    Line #714 (got 13 columns instead of 12)\n    Line #715 (got 13 columns instead of 12)\n    Line #716 (got 13 columns instead of 12)\n    Line #717 (got 13 columns instead of 12)\n    Line #718 (got 13 columns instead of 12)\n    Line #719 (got 13 columns instead of 12)\n    Line #720 (got 13 columns instead of 12)\n    Line #721 (got 13 columns instead of 12)\n    Line #722 (got 13 columns instead of 12)\n    Line #723 (got 13 columns instead of 12)\n    Line #724 (got 13 columns instead of 12)\n    Line #725 (got 13 columns instead of 12)\n    Line #726 (got 13 columns instead of 12)\n    Line #727 (got 13 columns instead of 12)\n    Line #728 (got 13 columns instead of 12)\n    Line #729 (got 13 columns instead of 12)\n    Line #730 (got 13 columns instead of 12)\n    Line #731 (got 13 columns instead of 12)\n    Line #732 (got 13 columns instead of 12)\n    Line #733 (got 13 columns instead of 12)\n    Line #734 (got 13 columns instead of 12)\n    Line #735 (got 13 columns instead of 12)\n    Line #736 (got 13 columns instead of 12)\n    Line #737 (got 13 columns instead of 12)\n    Line #738 (got 13 columns instead of 12)\n    Line #739 (got 13 columns instead of 12)\n    Line #740 (got 13 columns instead of 12)\n    Line #741 (got 13 columns instead of 12)\n    Line #742 (got 13 columns instead of 12)\n    Line #743 (got 13 columns instead of 12)\n    Line #744 (got 13 columns instead of 12)\n    Line #745 (got 13 columns instead of 12)\n    Line #746 (got 13 columns instead of 12)\n    Line #747 (got 13 columns instead of 12)\n    Line #748 (got 13 columns instead of 12)\n    Line #749 (got 13 columns instead of 12)\n    Line #750 (got 13 columns instead of 12)\n    Line #751 (got 13 columns instead of 12)\n    Line #752 (got 13 columns instead of 12)\n    Line #753 (got 13 columns instead of 12)\n    Line #754 (got 13 columns instead of 12)\n    Line #755 (got 13 columns instead of 12)\n    Line #756 (got 13 columns instead of 12)\n    Line #757 (got 13 columns instead of 12)\n    Line #758 (got 13 columns instead of 12)\n    Line #759 (got 13 columns instead of 12)\n    Line #760 (got 13 columns instead of 12)\n    Line #761 (got 13 columns instead of 12)\n    Line #762 (got 13 columns instead of 12)\n    Line #763 (got 13 columns instead of 12)\n    Line #764 (got 13 columns instead of 12)\n    Line #765 (got 13 columns instead of 12)\n    Line #766 (got 13 columns instead of 12)\n    Line #767 (got 13 columns instead of 12)\n    Line #768 (got 13 columns instead of 12)\n    Line #769 (got 13 columns instead of 12)\n    Line #770 (got 13 columns instead of 12)\n    Line #771 (got 13 columns instead of 12)\n    Line #772 (got 13 columns instead of 12)\n    Line #773 (got 13 columns instead of 12)\n    Line #774 (got 13 columns instead of 12)\n    Line #775 (got 13 columns instead of 12)\n    Line #776 (got 13 columns instead of 12)\n    Line #777 (got 13 columns instead of 12)\n    Line #778 (got 13 columns instead of 12)\n    Line #779 (got 13 columns instead of 12)\n    Line #780 (got 13 columns instead of 12)\n    Line #781 (got 13 columns instead of 12)\n    Line #782 (got 13 columns instead of 12)\n    Line #783 (got 13 columns instead of 12)\n    Line #784 (got 13 columns instead of 12)\n    Line #785 (got 13 columns instead of 12)\n    Line #786 (got 13 columns instead of 12)\n    Line #787 (got 13 columns instead of 12)\n    Line #788 (got 13 columns instead of 12)\n    Line #789 (got 13 columns instead of 12)\n    Line #790 (got 13 columns instead of 12)\n    Line #791 (got 13 columns instead of 12)\n    Line #792 (got 13 columns instead of 12)\n    Line #793 (got 13 columns instead of 12)\n    Line #794 (got 13 columns instead of 12)\n    Line #795 (got 13 columns instead of 12)\n    Line #796 (got 13 columns instead of 12)\n    Line #797 (got 13 columns instead of 12)\n    Line #798 (got 13 columns instead of 12)\n    Line #799 (got 13 columns instead of 12)\n    Line #800 (got 13 columns instead of 12)\n    Line #801 (got 13 columns instead of 12)\n    Line #802 (got 13 columns instead of 12)\n    Line #803 (got 13 columns instead of 12)\n    Line #804 (got 13 columns instead of 12)\n    Line #805 (got 13 columns instead of 12)\n    Line #806 (got 13 columns instead of 12)\n    Line #807 (got 13 columns instead of 12)\n    Line #808 (got 13 columns instead of 12)\n    Line #809 (got 13 columns instead of 12)\n    Line #810 (got 13 columns instead of 12)\n    Line #811 (got 13 columns instead of 12)\n    Line #812 (got 13 columns instead of 12)\n    Line #813 (got 13 columns instead of 12)\n    Line #814 (got 13 columns instead of 12)\n    Line #815 (got 13 columns instead of 12)\n    Line #816 (got 13 columns instead of 12)\n    Line #817 (got 13 columns instead of 12)\n    Line #818 (got 13 columns instead of 12)\n    Line #819 (got 13 columns instead of 12)\n    Line #820 (got 13 columns instead of 12)\n    Line #821 (got 13 columns instead of 12)\n    Line #822 (got 13 columns instead of 12)\n    Line #823 (got 13 columns instead of 12)\n    Line #824 (got 13 columns instead of 12)\n    Line #825 (got 13 columns instead of 12)\n    Line #826 (got 13 columns instead of 12)\n    Line #827 (got 13 columns instead of 12)\n    Line #828 (got 13 columns instead of 12)\n    Line #829 (got 13 columns instead of 12)\n    Line #830 (got 13 columns instead of 12)\n    Line #831 (got 13 columns instead of 12)\n    Line #832 (got 13 columns instead of 12)\n    Line #833 (got 13 columns instead of 12)\n    Line #834 (got 13 columns instead of 12)\n    Line #835 (got 13 columns instead of 12)\n    Line #836 (got 13 columns instead of 12)\n    Line #837 (got 13 columns instead of 12)\n    Line #838 (got 13 columns instead of 12)\n    Line #839 (got 13 columns instead of 12)\n    Line #840 (got 13 columns instead of 12)\n    Line #841 (got 13 columns instead of 12)\n    Line #842 (got 13 columns instead of 12)\n    Line #843 (got 13 columns instead of 12)\n    Line #844 (got 13 columns instead of 12)\n    Line #845 (got 13 columns instead of 12)\n    Line #846 (got 13 columns instead of 12)\n    Line #847 (got 13 columns instead of 12)\n    Line #848 (got 13 columns instead of 12)\n    Line #849 (got 13 columns instead of 12)\n    Line #850 (got 13 columns instead of 12)\n    Line #851 (got 13 columns instead of 12)\n    Line #852 (got 13 columns instead of 12)\n    Line #853 (got 13 columns instead of 12)\n    Line #854 (got 13 columns instead of 12)\n    Line #855 (got 13 columns instead of 12)\n    Line #856 (got 13 columns instead of 12)\n    Line #857 (got 13 columns instead of 12)\n    Line #858 (got 13 columns instead of 12)\n    Line #859 (got 13 columns instead of 12)\n    Line #860 (got 13 columns instead of 12)\n    Line #861 (got 13 columns instead of 12)\n    Line #862 (got 13 columns instead of 12)\n    Line #863 (got 13 columns instead of 12)\n    Line #864 (got 13 columns instead of 12)\n    Line #865 (got 13 columns instead of 12)\n    Line #866 (got 13 columns instead of 12)\n    Line #867 (got 13 columns instead of 12)\n    Line #868 (got 13 columns instead of 12)\n    Line #869 (got 13 columns instead of 12)\n    Line #870 (got 13 columns instead of 12)\n    Line #871 (got 13 columns instead of 12)\n    Line #872 (got 13 columns instead of 12)\n    Line #873 (got 13 columns instead of 12)\n    Line #874 (got 13 columns instead of 12)\n    Line #875 (got 13 columns instead of 12)\n    Line #876 (got 13 columns instead of 12)\n    Line #877 (got 13 columns instead of 12)\n    Line #878 (got 13 columns instead of 12)\n    Line #879 (got 13 columns instead of 12)\n    Line #880 (got 13 columns instead of 12)\n    Line #881 (got 13 columns instead of 12)\n    Line #882 (got 13 columns instead of 12)\n    Line #883 (got 13 columns instead of 12)\n    Line #884 (got 13 columns instead of 12)\n    Line #885 (got 13 columns instead of 12)\n    Line #886 (got 13 columns instead of 12)\n    Line #887 (got 13 columns instead of 12)\n    Line #888 (got 13 columns instead of 12)\n    Line #889 (got 13 columns instead of 12)\n    Line #890 (got 13 columns instead of 12)\n    Line #891 (got 13 columns instead of 12)\n    Line #892 (got 13 columns instead of 12)",
     "output_type": "error",
     "traceback": [
      "\u001b[1;31m---------------------------------------------------------------------------\u001b[0m",
      "\u001b[1;31mValueError\u001b[0m                                Traceback (most recent call last)",
      "\u001b[1;32m<ipython-input-105-0eb9f81e00d0>\u001b[0m in \u001b[0;36m<module>\u001b[1;34m()\u001b[0m\n\u001b[1;32m----> 1\u001b[1;33m \u001b[0mdata\u001b[0m\u001b[1;33m=\u001b[0m\u001b[0mnp\u001b[0m\u001b[1;33m.\u001b[0m\u001b[0mgenfromtxt\u001b[0m\u001b[1;33m(\u001b[0m\u001b[1;34m'01_data.csv'\u001b[0m\u001b[1;33m,\u001b[0m\u001b[0mdelimiter\u001b[0m\u001b[1;33m=\u001b[0m\u001b[1;34m','\u001b[0m\u001b[1;33m,\u001b[0m\u001b[0mnames\u001b[0m\u001b[1;33m=\u001b[0m\u001b[1;32mTrue\u001b[0m\u001b[1;33m)\u001b[0m\u001b[1;33m\u001b[0m\u001b[0m\n\u001b[0m",
      "\u001b[1;32m~\\Anaconda3\\lib\\site-packages\\numpy\\lib\\npyio.py\u001b[0m in \u001b[0;36mgenfromtxt\u001b[1;34m(fname, dtype, comments, delimiter, skip_header, skip_footer, converters, missing_values, filling_values, usecols, names, excludelist, deletechars, replace_space, autostrip, case_sensitive, defaultfmt, unpack, usemask, loose, invalid_raise, max_rows, encoding)\u001b[0m\n\u001b[0;32m   2029\u001b[0m             \u001b[1;31m# Raise an exception ?\u001b[0m\u001b[1;33m\u001b[0m\u001b[1;33m\u001b[0m\u001b[0m\n\u001b[0;32m   2030\u001b[0m             \u001b[1;32mif\u001b[0m \u001b[0minvalid_raise\u001b[0m\u001b[1;33m:\u001b[0m\u001b[1;33m\u001b[0m\u001b[0m\n\u001b[1;32m-> 2031\u001b[1;33m                 \u001b[1;32mraise\u001b[0m \u001b[0mValueError\u001b[0m\u001b[1;33m(\u001b[0m\u001b[0merrmsg\u001b[0m\u001b[1;33m)\u001b[0m\u001b[1;33m\u001b[0m\u001b[0m\n\u001b[0m\u001b[0;32m   2032\u001b[0m             \u001b[1;31m# Issue a warning ?\u001b[0m\u001b[1;33m\u001b[0m\u001b[1;33m\u001b[0m\u001b[0m\n\u001b[0;32m   2033\u001b[0m             \u001b[1;32melse\u001b[0m\u001b[1;33m:\u001b[0m\u001b[1;33m\u001b[0m\u001b[0m\n",
      "\u001b[1;31mValueError\u001b[0m: Some errors were detected !\n    Line #2 (got 13 columns instead of 12)\n    Line #3 (got 13 columns instead of 12)\n    Line #4 (got 13 columns instead of 12)\n    Line #5 (got 13 columns instead of 12)\n    Line #6 (got 13 columns instead of 12)\n    Line #7 (got 13 columns instead of 12)\n    Line #8 (got 13 columns instead of 12)\n    Line #9 (got 13 columns instead of 12)\n    Line #10 (got 13 columns instead of 12)\n    Line #11 (got 13 columns instead of 12)\n    Line #12 (got 13 columns instead of 12)\n    Line #13 (got 13 columns instead of 12)\n    Line #14 (got 13 columns instead of 12)\n    Line #15 (got 13 columns instead of 12)\n    Line #16 (got 13 columns instead of 12)\n    Line #17 (got 13 columns instead of 12)\n    Line #18 (got 13 columns instead of 12)\n    Line #19 (got 13 columns instead of 12)\n    Line #20 (got 13 columns instead of 12)\n    Line #21 (got 13 columns instead of 12)\n    Line #22 (got 13 columns instead of 12)\n    Line #23 (got 13 columns instead of 12)\n    Line #24 (got 13 columns instead of 12)\n    Line #25 (got 13 columns instead of 12)\n    Line #26 (got 13 columns instead of 12)\n    Line #27 (got 13 columns instead of 12)\n    Line #28 (got 13 columns instead of 12)\n    Line #29 (got 13 columns instead of 12)\n    Line #30 (got 13 columns instead of 12)\n    Line #31 (got 13 columns instead of 12)\n    Line #32 (got 13 columns instead of 12)\n    Line #33 (got 13 columns instead of 12)\n    Line #34 (got 13 columns instead of 12)\n    Line #35 (got 13 columns instead of 12)\n    Line #36 (got 13 columns instead of 12)\n    Line #37 (got 13 columns instead of 12)\n    Line #38 (got 13 columns instead of 12)\n    Line #39 (got 13 columns instead of 12)\n    Line #40 (got 13 columns instead of 12)\n    Line #41 (got 13 columns instead of 12)\n    Line #42 (got 13 columns instead of 12)\n    Line #43 (got 13 columns instead of 12)\n    Line #44 (got 13 columns instead of 12)\n    Line #45 (got 13 columns instead of 12)\n    Line #46 (got 13 columns instead of 12)\n    Line #47 (got 13 columns instead of 12)\n    Line #48 (got 13 columns instead of 12)\n    Line #49 (got 13 columns instead of 12)\n    Line #50 (got 13 columns instead of 12)\n    Line #51 (got 13 columns instead of 12)\n    Line #52 (got 13 columns instead of 12)\n    Line #53 (got 13 columns instead of 12)\n    Line #54 (got 13 columns instead of 12)\n    Line #55 (got 13 columns instead of 12)\n    Line #56 (got 13 columns instead of 12)\n    Line #57 (got 13 columns instead of 12)\n    Line #58 (got 13 columns instead of 12)\n    Line #59 (got 13 columns instead of 12)\n    Line #60 (got 13 columns instead of 12)\n    Line #61 (got 13 columns instead of 12)\n    Line #62 (got 13 columns instead of 12)\n    Line #63 (got 13 columns instead of 12)\n    Line #64 (got 13 columns instead of 12)\n    Line #65 (got 13 columns instead of 12)\n    Line #66 (got 13 columns instead of 12)\n    Line #67 (got 13 columns instead of 12)\n    Line #68 (got 13 columns instead of 12)\n    Line #69 (got 13 columns instead of 12)\n    Line #70 (got 13 columns instead of 12)\n    Line #71 (got 13 columns instead of 12)\n    Line #72 (got 13 columns instead of 12)\n    Line #73 (got 13 columns instead of 12)\n    Line #74 (got 13 columns instead of 12)\n    Line #75 (got 13 columns instead of 12)\n    Line #76 (got 13 columns instead of 12)\n    Line #77 (got 13 columns instead of 12)\n    Line #78 (got 13 columns instead of 12)\n    Line #79 (got 13 columns instead of 12)\n    Line #80 (got 13 columns instead of 12)\n    Line #81 (got 13 columns instead of 12)\n    Line #82 (got 13 columns instead of 12)\n    Line #83 (got 13 columns instead of 12)\n    Line #84 (got 13 columns instead of 12)\n    Line #85 (got 13 columns instead of 12)\n    Line #86 (got 13 columns instead of 12)\n    Line #87 (got 13 columns instead of 12)\n    Line #88 (got 13 columns instead of 12)\n    Line #89 (got 13 columns instead of 12)\n    Line #90 (got 13 columns instead of 12)\n    Line #91 (got 13 columns instead of 12)\n    Line #92 (got 13 columns instead of 12)\n    Line #93 (got 13 columns instead of 12)\n    Line #94 (got 13 columns instead of 12)\n    Line #95 (got 13 columns instead of 12)\n    Line #96 (got 13 columns instead of 12)\n    Line #97 (got 13 columns instead of 12)\n    Line #98 (got 13 columns instead of 12)\n    Line #99 (got 13 columns instead of 12)\n    Line #100 (got 13 columns instead of 12)\n    Line #101 (got 13 columns instead of 12)\n    Line #102 (got 13 columns instead of 12)\n    Line #103 (got 13 columns instead of 12)\n    Line #104 (got 13 columns instead of 12)\n    Line #105 (got 13 columns instead of 12)\n    Line #106 (got 13 columns instead of 12)\n    Line #107 (got 13 columns instead of 12)\n    Line #108 (got 13 columns instead of 12)\n    Line #109 (got 13 columns instead of 12)\n    Line #110 (got 13 columns instead of 12)\n    Line #111 (got 13 columns instead of 12)\n    Line #112 (got 13 columns instead of 12)\n    Line #113 (got 13 columns instead of 12)\n    Line #114 (got 13 columns instead of 12)\n    Line #115 (got 13 columns instead of 12)\n    Line #116 (got 13 columns instead of 12)\n    Line #117 (got 13 columns instead of 12)\n    Line #118 (got 13 columns instead of 12)\n    Line #119 (got 13 columns instead of 12)\n    Line #120 (got 13 columns instead of 12)\n    Line #121 (got 13 columns instead of 12)\n    Line #122 (got 13 columns instead of 12)\n    Line #123 (got 13 columns instead of 12)\n    Line #124 (got 13 columns instead of 12)\n    Line #125 (got 13 columns instead of 12)\n    Line #126 (got 13 columns instead of 12)\n    Line #127 (got 13 columns instead of 12)\n    Line #128 (got 13 columns instead of 12)\n    Line #129 (got 13 columns instead of 12)\n    Line #130 (got 13 columns instead of 12)\n    Line #131 (got 13 columns instead of 12)\n    Line #132 (got 13 columns instead of 12)\n    Line #133 (got 13 columns instead of 12)\n    Line #134 (got 13 columns instead of 12)\n    Line #135 (got 13 columns instead of 12)\n    Line #136 (got 13 columns instead of 12)\n    Line #137 (got 13 columns instead of 12)\n    Line #138 (got 13 columns instead of 12)\n    Line #139 (got 13 columns instead of 12)\n    Line #140 (got 13 columns instead of 12)\n    Line #141 (got 13 columns instead of 12)\n    Line #142 (got 13 columns instead of 12)\n    Line #143 (got 13 columns instead of 12)\n    Line #144 (got 13 columns instead of 12)\n    Line #145 (got 13 columns instead of 12)\n    Line #146 (got 13 columns instead of 12)\n    Line #147 (got 13 columns instead of 12)\n    Line #148 (got 13 columns instead of 12)\n    Line #149 (got 13 columns instead of 12)\n    Line #150 (got 13 columns instead of 12)\n    Line #151 (got 13 columns instead of 12)\n    Line #152 (got 13 columns instead of 12)\n    Line #153 (got 13 columns instead of 12)\n    Line #154 (got 13 columns instead of 12)\n    Line #155 (got 13 columns instead of 12)\n    Line #156 (got 13 columns instead of 12)\n    Line #157 (got 13 columns instead of 12)\n    Line #158 (got 13 columns instead of 12)\n    Line #159 (got 13 columns instead of 12)\n    Line #160 (got 13 columns instead of 12)\n    Line #161 (got 13 columns instead of 12)\n    Line #162 (got 13 columns instead of 12)\n    Line #163 (got 13 columns instead of 12)\n    Line #164 (got 13 columns instead of 12)\n    Line #165 (got 13 columns instead of 12)\n    Line #166 (got 13 columns instead of 12)\n    Line #167 (got 13 columns instead of 12)\n    Line #168 (got 13 columns instead of 12)\n    Line #169 (got 13 columns instead of 12)\n    Line #170 (got 13 columns instead of 12)\n    Line #171 (got 13 columns instead of 12)\n    Line #172 (got 13 columns instead of 12)\n    Line #173 (got 13 columns instead of 12)\n    Line #174 (got 13 columns instead of 12)\n    Line #175 (got 13 columns instead of 12)\n    Line #176 (got 13 columns instead of 12)\n    Line #177 (got 13 columns instead of 12)\n    Line #178 (got 13 columns instead of 12)\n    Line #179 (got 13 columns instead of 12)\n    Line #180 (got 13 columns instead of 12)\n    Line #181 (got 13 columns instead of 12)\n    Line #182 (got 13 columns instead of 12)\n    Line #183 (got 13 columns instead of 12)\n    Line #184 (got 13 columns instead of 12)\n    Line #185 (got 13 columns instead of 12)\n    Line #186 (got 13 columns instead of 12)\n    Line #187 (got 13 columns instead of 12)\n    Line #188 (got 13 columns instead of 12)\n    Line #189 (got 13 columns instead of 12)\n    Line #190 (got 13 columns instead of 12)\n    Line #191 (got 13 columns instead of 12)\n    Line #192 (got 13 columns instead of 12)\n    Line #193 (got 13 columns instead of 12)\n    Line #194 (got 13 columns instead of 12)\n    Line #195 (got 13 columns instead of 12)\n    Line #196 (got 13 columns instead of 12)\n    Line #197 (got 13 columns instead of 12)\n    Line #198 (got 13 columns instead of 12)\n    Line #199 (got 13 columns instead of 12)\n    Line #200 (got 13 columns instead of 12)\n    Line #201 (got 13 columns instead of 12)\n    Line #202 (got 13 columns instead of 12)\n    Line #203 (got 13 columns instead of 12)\n    Line #204 (got 13 columns instead of 12)\n    Line #205 (got 13 columns instead of 12)\n    Line #206 (got 13 columns instead of 12)\n    Line #207 (got 13 columns instead of 12)\n    Line #208 (got 13 columns instead of 12)\n    Line #209 (got 13 columns instead of 12)\n    Line #210 (got 13 columns instead of 12)\n    Line #211 (got 13 columns instead of 12)\n    Line #212 (got 13 columns instead of 12)\n    Line #213 (got 13 columns instead of 12)\n    Line #214 (got 13 columns instead of 12)\n    Line #215 (got 13 columns instead of 12)\n    Line #216 (got 13 columns instead of 12)\n    Line #217 (got 13 columns instead of 12)\n    Line #218 (got 13 columns instead of 12)\n    Line #219 (got 13 columns instead of 12)\n    Line #220 (got 13 columns instead of 12)\n    Line #221 (got 13 columns instead of 12)\n    Line #222 (got 13 columns instead of 12)\n    Line #223 (got 13 columns instead of 12)\n    Line #224 (got 13 columns instead of 12)\n    Line #225 (got 13 columns instead of 12)\n    Line #226 (got 13 columns instead of 12)\n    Line #227 (got 13 columns instead of 12)\n    Line #228 (got 13 columns instead of 12)\n    Line #229 (got 13 columns instead of 12)\n    Line #230 (got 13 columns instead of 12)\n    Line #231 (got 13 columns instead of 12)\n    Line #232 (got 13 columns instead of 12)\n    Line #233 (got 13 columns instead of 12)\n    Line #234 (got 13 columns instead of 12)\n    Line #235 (got 13 columns instead of 12)\n    Line #236 (got 13 columns instead of 12)\n    Line #237 (got 13 columns instead of 12)\n    Line #238 (got 13 columns instead of 12)\n    Line #239 (got 13 columns instead of 12)\n    Line #240 (got 13 columns instead of 12)\n    Line #241 (got 13 columns instead of 12)\n    Line #242 (got 13 columns instead of 12)\n    Line #243 (got 13 columns instead of 12)\n    Line #244 (got 13 columns instead of 12)\n    Line #245 (got 13 columns instead of 12)\n    Line #246 (got 13 columns instead of 12)\n    Line #247 (got 13 columns instead of 12)\n    Line #248 (got 13 columns instead of 12)\n    Line #249 (got 13 columns instead of 12)\n    Line #250 (got 13 columns instead of 12)\n    Line #251 (got 13 columns instead of 12)\n    Line #252 (got 13 columns instead of 12)\n    Line #253 (got 13 columns instead of 12)\n    Line #254 (got 13 columns instead of 12)\n    Line #255 (got 13 columns instead of 12)\n    Line #256 (got 13 columns instead of 12)\n    Line #257 (got 13 columns instead of 12)\n    Line #258 (got 13 columns instead of 12)\n    Line #259 (got 13 columns instead of 12)\n    Line #260 (got 13 columns instead of 12)\n    Line #261 (got 13 columns instead of 12)\n    Line #262 (got 13 columns instead of 12)\n    Line #263 (got 13 columns instead of 12)\n    Line #264 (got 13 columns instead of 12)\n    Line #265 (got 13 columns instead of 12)\n    Line #266 (got 13 columns instead of 12)\n    Line #267 (got 13 columns instead of 12)\n    Line #268 (got 13 columns instead of 12)\n    Line #269 (got 13 columns instead of 12)\n    Line #270 (got 13 columns instead of 12)\n    Line #271 (got 13 columns instead of 12)\n    Line #272 (got 13 columns instead of 12)\n    Line #273 (got 13 columns instead of 12)\n    Line #274 (got 13 columns instead of 12)\n    Line #275 (got 13 columns instead of 12)\n    Line #276 (got 13 columns instead of 12)\n    Line #277 (got 13 columns instead of 12)\n    Line #278 (got 13 columns instead of 12)\n    Line #279 (got 13 columns instead of 12)\n    Line #280 (got 13 columns instead of 12)\n    Line #281 (got 13 columns instead of 12)\n    Line #282 (got 13 columns instead of 12)\n    Line #283 (got 13 columns instead of 12)\n    Line #284 (got 13 columns instead of 12)\n    Line #285 (got 13 columns instead of 12)\n    Line #286 (got 13 columns instead of 12)\n    Line #287 (got 13 columns instead of 12)\n    Line #288 (got 13 columns instead of 12)\n    Line #289 (got 13 columns instead of 12)\n    Line #290 (got 13 columns instead of 12)\n    Line #291 (got 13 columns instead of 12)\n    Line #292 (got 13 columns instead of 12)\n    Line #293 (got 13 columns instead of 12)\n    Line #294 (got 13 columns instead of 12)\n    Line #295 (got 13 columns instead of 12)\n    Line #296 (got 13 columns instead of 12)\n    Line #297 (got 13 columns instead of 12)\n    Line #298 (got 13 columns instead of 12)\n    Line #299 (got 13 columns instead of 12)\n    Line #300 (got 13 columns instead of 12)\n    Line #301 (got 13 columns instead of 12)\n    Line #302 (got 13 columns instead of 12)\n    Line #303 (got 13 columns instead of 12)\n    Line #304 (got 13 columns instead of 12)\n    Line #305 (got 13 columns instead of 12)\n    Line #306 (got 13 columns instead of 12)\n    Line #307 (got 13 columns instead of 12)\n    Line #308 (got 13 columns instead of 12)\n    Line #309 (got 13 columns instead of 12)\n    Line #310 (got 13 columns instead of 12)\n    Line #311 (got 13 columns instead of 12)\n    Line #312 (got 13 columns instead of 12)\n    Line #313 (got 13 columns instead of 12)\n    Line #314 (got 13 columns instead of 12)\n    Line #315 (got 13 columns instead of 12)\n    Line #316 (got 13 columns instead of 12)\n    Line #317 (got 13 columns instead of 12)\n    Line #318 (got 13 columns instead of 12)\n    Line #319 (got 13 columns instead of 12)\n    Line #320 (got 13 columns instead of 12)\n    Line #321 (got 13 columns instead of 12)\n    Line #322 (got 13 columns instead of 12)\n    Line #323 (got 13 columns instead of 12)\n    Line #324 (got 13 columns instead of 12)\n    Line #325 (got 13 columns instead of 12)\n    Line #326 (got 13 columns instead of 12)\n    Line #327 (got 13 columns instead of 12)\n    Line #328 (got 13 columns instead of 12)\n    Line #329 (got 13 columns instead of 12)\n    Line #330 (got 13 columns instead of 12)\n    Line #331 (got 13 columns instead of 12)\n    Line #332 (got 13 columns instead of 12)\n    Line #333 (got 13 columns instead of 12)\n    Line #334 (got 13 columns instead of 12)\n    Line #335 (got 13 columns instead of 12)\n    Line #336 (got 13 columns instead of 12)\n    Line #337 (got 13 columns instead of 12)\n    Line #338 (got 13 columns instead of 12)\n    Line #339 (got 13 columns instead of 12)\n    Line #340 (got 13 columns instead of 12)\n    Line #341 (got 13 columns instead of 12)\n    Line #342 (got 13 columns instead of 12)\n    Line #343 (got 13 columns instead of 12)\n    Line #344 (got 13 columns instead of 12)\n    Line #345 (got 13 columns instead of 12)\n    Line #346 (got 13 columns instead of 12)\n    Line #347 (got 13 columns instead of 12)\n    Line #348 (got 13 columns instead of 12)\n    Line #349 (got 13 columns instead of 12)\n    Line #350 (got 13 columns instead of 12)\n    Line #351 (got 13 columns instead of 12)\n    Line #352 (got 13 columns instead of 12)\n    Line #353 (got 13 columns instead of 12)\n    Line #354 (got 13 columns instead of 12)\n    Line #355 (got 13 columns instead of 12)\n    Line #356 (got 13 columns instead of 12)\n    Line #357 (got 13 columns instead of 12)\n    Line #358 (got 13 columns instead of 12)\n    Line #359 (got 13 columns instead of 12)\n    Line #360 (got 13 columns instead of 12)\n    Line #361 (got 13 columns instead of 12)\n    Line #362 (got 13 columns instead of 12)\n    Line #363 (got 13 columns instead of 12)\n    Line #364 (got 13 columns instead of 12)\n    Line #365 (got 13 columns instead of 12)\n    Line #366 (got 13 columns instead of 12)\n    Line #367 (got 13 columns instead of 12)\n    Line #368 (got 13 columns instead of 12)\n    Line #369 (got 13 columns instead of 12)\n    Line #370 (got 13 columns instead of 12)\n    Line #371 (got 13 columns instead of 12)\n    Line #372 (got 13 columns instead of 12)\n    Line #373 (got 13 columns instead of 12)\n    Line #374 (got 13 columns instead of 12)\n    Line #375 (got 13 columns instead of 12)\n    Line #376 (got 13 columns instead of 12)\n    Line #377 (got 13 columns instead of 12)\n    Line #378 (got 13 columns instead of 12)\n    Line #379 (got 13 columns instead of 12)\n    Line #380 (got 13 columns instead of 12)\n    Line #381 (got 13 columns instead of 12)\n    Line #382 (got 13 columns instead of 12)\n    Line #383 (got 13 columns instead of 12)\n    Line #384 (got 13 columns instead of 12)\n    Line #385 (got 13 columns instead of 12)\n    Line #386 (got 13 columns instead of 12)\n    Line #387 (got 13 columns instead of 12)\n    Line #388 (got 13 columns instead of 12)\n    Line #389 (got 13 columns instead of 12)\n    Line #390 (got 13 columns instead of 12)\n    Line #391 (got 13 columns instead of 12)\n    Line #392 (got 13 columns instead of 12)\n    Line #393 (got 13 columns instead of 12)\n    Line #394 (got 13 columns instead of 12)\n    Line #395 (got 13 columns instead of 12)\n    Line #396 (got 13 columns instead of 12)\n    Line #397 (got 13 columns instead of 12)\n    Line #398 (got 13 columns instead of 12)\n    Line #399 (got 13 columns instead of 12)\n    Line #400 (got 13 columns instead of 12)\n    Line #401 (got 13 columns instead of 12)\n    Line #402 (got 13 columns instead of 12)\n    Line #403 (got 13 columns instead of 12)\n    Line #404 (got 13 columns instead of 12)\n    Line #405 (got 13 columns instead of 12)\n    Line #406 (got 13 columns instead of 12)\n    Line #407 (got 13 columns instead of 12)\n    Line #408 (got 13 columns instead of 12)\n    Line #409 (got 13 columns instead of 12)\n    Line #410 (got 13 columns instead of 12)\n    Line #411 (got 13 columns instead of 12)\n    Line #412 (got 13 columns instead of 12)\n    Line #413 (got 13 columns instead of 12)\n    Line #414 (got 13 columns instead of 12)\n    Line #415 (got 13 columns instead of 12)\n    Line #416 (got 13 columns instead of 12)\n    Line #417 (got 13 columns instead of 12)\n    Line #418 (got 13 columns instead of 12)\n    Line #419 (got 13 columns instead of 12)\n    Line #420 (got 13 columns instead of 12)\n    Line #421 (got 13 columns instead of 12)\n    Line #422 (got 13 columns instead of 12)\n    Line #423 (got 13 columns instead of 12)\n    Line #424 (got 13 columns instead of 12)\n    Line #425 (got 13 columns instead of 12)\n    Line #426 (got 13 columns instead of 12)\n    Line #427 (got 13 columns instead of 12)\n    Line #428 (got 13 columns instead of 12)\n    Line #429 (got 13 columns instead of 12)\n    Line #430 (got 13 columns instead of 12)\n    Line #431 (got 13 columns instead of 12)\n    Line #432 (got 13 columns instead of 12)\n    Line #433 (got 13 columns instead of 12)\n    Line #434 (got 13 columns instead of 12)\n    Line #435 (got 13 columns instead of 12)\n    Line #436 (got 13 columns instead of 12)\n    Line #437 (got 13 columns instead of 12)\n    Line #438 (got 13 columns instead of 12)\n    Line #439 (got 13 columns instead of 12)\n    Line #440 (got 13 columns instead of 12)\n    Line #441 (got 13 columns instead of 12)\n    Line #442 (got 13 columns instead of 12)\n    Line #443 (got 13 columns instead of 12)\n    Line #444 (got 13 columns instead of 12)\n    Line #445 (got 13 columns instead of 12)\n    Line #446 (got 13 columns instead of 12)\n    Line #447 (got 13 columns instead of 12)\n    Line #448 (got 13 columns instead of 12)\n    Line #449 (got 13 columns instead of 12)\n    Line #450 (got 13 columns instead of 12)\n    Line #451 (got 13 columns instead of 12)\n    Line #452 (got 13 columns instead of 12)\n    Line #453 (got 13 columns instead of 12)\n    Line #454 (got 13 columns instead of 12)\n    Line #455 (got 13 columns instead of 12)\n    Line #456 (got 13 columns instead of 12)\n    Line #457 (got 13 columns instead of 12)\n    Line #458 (got 13 columns instead of 12)\n    Line #459 (got 13 columns instead of 12)\n    Line #460 (got 13 columns instead of 12)\n    Line #461 (got 13 columns instead of 12)\n    Line #462 (got 13 columns instead of 12)\n    Line #463 (got 13 columns instead of 12)\n    Line #464 (got 13 columns instead of 12)\n    Line #465 (got 13 columns instead of 12)\n    Line #466 (got 13 columns instead of 12)\n    Line #467 (got 13 columns instead of 12)\n    Line #468 (got 13 columns instead of 12)\n    Line #469 (got 13 columns instead of 12)\n    Line #470 (got 13 columns instead of 12)\n    Line #471 (got 13 columns instead of 12)\n    Line #472 (got 13 columns instead of 12)\n    Line #473 (got 13 columns instead of 12)\n    Line #474 (got 13 columns instead of 12)\n    Line #475 (got 13 columns instead of 12)\n    Line #476 (got 13 columns instead of 12)\n    Line #477 (got 13 columns instead of 12)\n    Line #478 (got 13 columns instead of 12)\n    Line #479 (got 13 columns instead of 12)\n    Line #480 (got 13 columns instead of 12)\n    Line #481 (got 13 columns instead of 12)\n    Line #482 (got 13 columns instead of 12)\n    Line #483 (got 13 columns instead of 12)\n    Line #484 (got 13 columns instead of 12)\n    Line #485 (got 13 columns instead of 12)\n    Line #486 (got 13 columns instead of 12)\n    Line #487 (got 13 columns instead of 12)\n    Line #488 (got 13 columns instead of 12)\n    Line #489 (got 13 columns instead of 12)\n    Line #490 (got 13 columns instead of 12)\n    Line #491 (got 13 columns instead of 12)\n    Line #492 (got 13 columns instead of 12)\n    Line #493 (got 13 columns instead of 12)\n    Line #494 (got 13 columns instead of 12)\n    Line #495 (got 13 columns instead of 12)\n    Line #496 (got 13 columns instead of 12)\n    Line #497 (got 13 columns instead of 12)\n    Line #498 (got 13 columns instead of 12)\n    Line #499 (got 13 columns instead of 12)\n    Line #500 (got 13 columns instead of 12)\n    Line #501 (got 13 columns instead of 12)\n    Line #502 (got 13 columns instead of 12)\n    Line #503 (got 13 columns instead of 12)\n    Line #504 (got 13 columns instead of 12)\n    Line #505 (got 13 columns instead of 12)\n    Line #506 (got 13 columns instead of 12)\n    Line #507 (got 13 columns instead of 12)\n    Line #508 (got 13 columns instead of 12)\n    Line #509 (got 13 columns instead of 12)\n    Line #510 (got 13 columns instead of 12)\n    Line #511 (got 13 columns instead of 12)\n    Line #512 (got 13 columns instead of 12)\n    Line #513 (got 13 columns instead of 12)\n    Line #514 (got 13 columns instead of 12)\n    Line #515 (got 13 columns instead of 12)\n    Line #516 (got 13 columns instead of 12)\n    Line #517 (got 13 columns instead of 12)\n    Line #518 (got 13 columns instead of 12)\n    Line #519 (got 13 columns instead of 12)\n    Line #520 (got 13 columns instead of 12)\n    Line #521 (got 13 columns instead of 12)\n    Line #522 (got 13 columns instead of 12)\n    Line #523 (got 13 columns instead of 12)\n    Line #524 (got 13 columns instead of 12)\n    Line #525 (got 13 columns instead of 12)\n    Line #526 (got 13 columns instead of 12)\n    Line #527 (got 13 columns instead of 12)\n    Line #528 (got 13 columns instead of 12)\n    Line #529 (got 13 columns instead of 12)\n    Line #530 (got 13 columns instead of 12)\n    Line #531 (got 13 columns instead of 12)\n    Line #532 (got 13 columns instead of 12)\n    Line #533 (got 13 columns instead of 12)\n    Line #534 (got 13 columns instead of 12)\n    Line #535 (got 13 columns instead of 12)\n    Line #536 (got 13 columns instead of 12)\n    Line #537 (got 13 columns instead of 12)\n    Line #538 (got 13 columns instead of 12)\n    Line #539 (got 13 columns instead of 12)\n    Line #540 (got 13 columns instead of 12)\n    Line #541 (got 13 columns instead of 12)\n    Line #542 (got 13 columns instead of 12)\n    Line #543 (got 13 columns instead of 12)\n    Line #544 (got 13 columns instead of 12)\n    Line #545 (got 13 columns instead of 12)\n    Line #546 (got 13 columns instead of 12)\n    Line #547 (got 13 columns instead of 12)\n    Line #548 (got 13 columns instead of 12)\n    Line #549 (got 13 columns instead of 12)\n    Line #550 (got 13 columns instead of 12)\n    Line #551 (got 13 columns instead of 12)\n    Line #552 (got 13 columns instead of 12)\n    Line #553 (got 13 columns instead of 12)\n    Line #554 (got 13 columns instead of 12)\n    Line #555 (got 13 columns instead of 12)\n    Line #556 (got 13 columns instead of 12)\n    Line #557 (got 13 columns instead of 12)\n    Line #558 (got 13 columns instead of 12)\n    Line #559 (got 13 columns instead of 12)\n    Line #560 (got 13 columns instead of 12)\n    Line #561 (got 13 columns instead of 12)\n    Line #562 (got 13 columns instead of 12)\n    Line #563 (got 13 columns instead of 12)\n    Line #564 (got 13 columns instead of 12)\n    Line #565 (got 13 columns instead of 12)\n    Line #566 (got 13 columns instead of 12)\n    Line #567 (got 13 columns instead of 12)\n    Line #568 (got 13 columns instead of 12)\n    Line #569 (got 13 columns instead of 12)\n    Line #570 (got 13 columns instead of 12)\n    Line #571 (got 13 columns instead of 12)\n    Line #572 (got 13 columns instead of 12)\n    Line #573 (got 13 columns instead of 12)\n    Line #574 (got 13 columns instead of 12)\n    Line #575 (got 13 columns instead of 12)\n    Line #576 (got 13 columns instead of 12)\n    Line #577 (got 13 columns instead of 12)\n    Line #578 (got 13 columns instead of 12)\n    Line #579 (got 13 columns instead of 12)\n    Line #580 (got 13 columns instead of 12)\n    Line #581 (got 13 columns instead of 12)\n    Line #582 (got 13 columns instead of 12)\n    Line #583 (got 13 columns instead of 12)\n    Line #584 (got 13 columns instead of 12)\n    Line #585 (got 13 columns instead of 12)\n    Line #586 (got 13 columns instead of 12)\n    Line #587 (got 13 columns instead of 12)\n    Line #588 (got 13 columns instead of 12)\n    Line #589 (got 13 columns instead of 12)\n    Line #590 (got 13 columns instead of 12)\n    Line #591 (got 13 columns instead of 12)\n    Line #592 (got 13 columns instead of 12)\n    Line #593 (got 13 columns instead of 12)\n    Line #594 (got 13 columns instead of 12)\n    Line #595 (got 13 columns instead of 12)\n    Line #596 (got 13 columns instead of 12)\n    Line #597 (got 13 columns instead of 12)\n    Line #598 (got 13 columns instead of 12)\n    Line #599 (got 13 columns instead of 12)\n    Line #600 (got 13 columns instead of 12)\n    Line #601 (got 13 columns instead of 12)\n    Line #602 (got 13 columns instead of 12)\n    Line #603 (got 13 columns instead of 12)\n    Line #604 (got 13 columns instead of 12)\n    Line #605 (got 13 columns instead of 12)\n    Line #606 (got 13 columns instead of 12)\n    Line #607 (got 13 columns instead of 12)\n    Line #608 (got 13 columns instead of 12)\n    Line #609 (got 13 columns instead of 12)\n    Line #610 (got 13 columns instead of 12)\n    Line #611 (got 13 columns instead of 12)\n    Line #612 (got 13 columns instead of 12)\n    Line #613 (got 13 columns instead of 12)\n    Line #614 (got 13 columns instead of 12)\n    Line #615 (got 13 columns instead of 12)\n    Line #616 (got 13 columns instead of 12)\n    Line #617 (got 13 columns instead of 12)\n    Line #618 (got 13 columns instead of 12)\n    Line #619 (got 13 columns instead of 12)\n    Line #620 (got 13 columns instead of 12)\n    Line #621 (got 13 columns instead of 12)\n    Line #622 (got 13 columns instead of 12)\n    Line #623 (got 13 columns instead of 12)\n    Line #624 (got 13 columns instead of 12)\n    Line #625 (got 13 columns instead of 12)\n    Line #626 (got 13 columns instead of 12)\n    Line #627 (got 13 columns instead of 12)\n    Line #628 (got 13 columns instead of 12)\n    Line #629 (got 13 columns instead of 12)\n    Line #630 (got 13 columns instead of 12)\n    Line #631 (got 13 columns instead of 12)\n    Line #632 (got 13 columns instead of 12)\n    Line #633 (got 13 columns instead of 12)\n    Line #634 (got 13 columns instead of 12)\n    Line #635 (got 13 columns instead of 12)\n    Line #636 (got 13 columns instead of 12)\n    Line #637 (got 13 columns instead of 12)\n    Line #638 (got 13 columns instead of 12)\n    Line #639 (got 13 columns instead of 12)\n    Line #640 (got 13 columns instead of 12)\n    Line #641 (got 13 columns instead of 12)\n    Line #642 (got 13 columns instead of 12)\n    Line #643 (got 13 columns instead of 12)\n    Line #644 (got 13 columns instead of 12)\n    Line #645 (got 13 columns instead of 12)\n    Line #646 (got 13 columns instead of 12)\n    Line #647 (got 13 columns instead of 12)\n    Line #648 (got 13 columns instead of 12)\n    Line #649 (got 13 columns instead of 12)\n    Line #650 (got 13 columns instead of 12)\n    Line #651 (got 13 columns instead of 12)\n    Line #652 (got 13 columns instead of 12)\n    Line #653 (got 13 columns instead of 12)\n    Line #654 (got 13 columns instead of 12)\n    Line #655 (got 13 columns instead of 12)\n    Line #656 (got 13 columns instead of 12)\n    Line #657 (got 13 columns instead of 12)\n    Line #658 (got 13 columns instead of 12)\n    Line #659 (got 13 columns instead of 12)\n    Line #660 (got 13 columns instead of 12)\n    Line #661 (got 13 columns instead of 12)\n    Line #662 (got 13 columns instead of 12)\n    Line #663 (got 13 columns instead of 12)\n    Line #664 (got 13 columns instead of 12)\n    Line #665 (got 13 columns instead of 12)\n    Line #666 (got 13 columns instead of 12)\n    Line #667 (got 13 columns instead of 12)\n    Line #668 (got 13 columns instead of 12)\n    Line #669 (got 13 columns instead of 12)\n    Line #670 (got 13 columns instead of 12)\n    Line #671 (got 13 columns instead of 12)\n    Line #672 (got 13 columns instead of 12)\n    Line #673 (got 13 columns instead of 12)\n    Line #674 (got 13 columns instead of 12)\n    Line #675 (got 13 columns instead of 12)\n    Line #676 (got 13 columns instead of 12)\n    Line #677 (got 13 columns instead of 12)\n    Line #678 (got 13 columns instead of 12)\n    Line #679 (got 13 columns instead of 12)\n    Line #680 (got 13 columns instead of 12)\n    Line #681 (got 13 columns instead of 12)\n    Line #682 (got 13 columns instead of 12)\n    Line #683 (got 13 columns instead of 12)\n    Line #684 (got 13 columns instead of 12)\n    Line #685 (got 13 columns instead of 12)\n    Line #686 (got 13 columns instead of 12)\n    Line #687 (got 13 columns instead of 12)\n    Line #688 (got 13 columns instead of 12)\n    Line #689 (got 13 columns instead of 12)\n    Line #690 (got 13 columns instead of 12)\n    Line #691 (got 13 columns instead of 12)\n    Line #692 (got 13 columns instead of 12)\n    Line #693 (got 13 columns instead of 12)\n    Line #694 (got 13 columns instead of 12)\n    Line #695 (got 13 columns instead of 12)\n    Line #696 (got 13 columns instead of 12)\n    Line #697 (got 13 columns instead of 12)\n    Line #698 (got 13 columns instead of 12)\n    Line #699 (got 13 columns instead of 12)\n    Line #700 (got 13 columns instead of 12)\n    Line #701 (got 13 columns instead of 12)\n    Line #702 (got 13 columns instead of 12)\n    Line #703 (got 13 columns instead of 12)\n    Line #704 (got 13 columns instead of 12)\n    Line #705 (got 13 columns instead of 12)\n    Line #706 (got 13 columns instead of 12)\n    Line #707 (got 13 columns instead of 12)\n    Line #708 (got 13 columns instead of 12)\n    Line #709 (got 13 columns instead of 12)\n    Line #710 (got 13 columns instead of 12)\n    Line #711 (got 13 columns instead of 12)\n    Line #712 (got 13 columns instead of 12)\n    Line #713 (got 13 columns instead of 12)\n    Line #714 (got 13 columns instead of 12)\n    Line #715 (got 13 columns instead of 12)\n    Line #716 (got 13 columns instead of 12)\n    Line #717 (got 13 columns instead of 12)\n    Line #718 (got 13 columns instead of 12)\n    Line #719 (got 13 columns instead of 12)\n    Line #720 (got 13 columns instead of 12)\n    Line #721 (got 13 columns instead of 12)\n    Line #722 (got 13 columns instead of 12)\n    Line #723 (got 13 columns instead of 12)\n    Line #724 (got 13 columns instead of 12)\n    Line #725 (got 13 columns instead of 12)\n    Line #726 (got 13 columns instead of 12)\n    Line #727 (got 13 columns instead of 12)\n    Line #728 (got 13 columns instead of 12)\n    Line #729 (got 13 columns instead of 12)\n    Line #730 (got 13 columns instead of 12)\n    Line #731 (got 13 columns instead of 12)\n    Line #732 (got 13 columns instead of 12)\n    Line #733 (got 13 columns instead of 12)\n    Line #734 (got 13 columns instead of 12)\n    Line #735 (got 13 columns instead of 12)\n    Line #736 (got 13 columns instead of 12)\n    Line #737 (got 13 columns instead of 12)\n    Line #738 (got 13 columns instead of 12)\n    Line #739 (got 13 columns instead of 12)\n    Line #740 (got 13 columns instead of 12)\n    Line #741 (got 13 columns instead of 12)\n    Line #742 (got 13 columns instead of 12)\n    Line #743 (got 13 columns instead of 12)\n    Line #744 (got 13 columns instead of 12)\n    Line #745 (got 13 columns instead of 12)\n    Line #746 (got 13 columns instead of 12)\n    Line #747 (got 13 columns instead of 12)\n    Line #748 (got 13 columns instead of 12)\n    Line #749 (got 13 columns instead of 12)\n    Line #750 (got 13 columns instead of 12)\n    Line #751 (got 13 columns instead of 12)\n    Line #752 (got 13 columns instead of 12)\n    Line #753 (got 13 columns instead of 12)\n    Line #754 (got 13 columns instead of 12)\n    Line #755 (got 13 columns instead of 12)\n    Line #756 (got 13 columns instead of 12)\n    Line #757 (got 13 columns instead of 12)\n    Line #758 (got 13 columns instead of 12)\n    Line #759 (got 13 columns instead of 12)\n    Line #760 (got 13 columns instead of 12)\n    Line #761 (got 13 columns instead of 12)\n    Line #762 (got 13 columns instead of 12)\n    Line #763 (got 13 columns instead of 12)\n    Line #764 (got 13 columns instead of 12)\n    Line #765 (got 13 columns instead of 12)\n    Line #766 (got 13 columns instead of 12)\n    Line #767 (got 13 columns instead of 12)\n    Line #768 (got 13 columns instead of 12)\n    Line #769 (got 13 columns instead of 12)\n    Line #770 (got 13 columns instead of 12)\n    Line #771 (got 13 columns instead of 12)\n    Line #772 (got 13 columns instead of 12)\n    Line #773 (got 13 columns instead of 12)\n    Line #774 (got 13 columns instead of 12)\n    Line #775 (got 13 columns instead of 12)\n    Line #776 (got 13 columns instead of 12)\n    Line #777 (got 13 columns instead of 12)\n    Line #778 (got 13 columns instead of 12)\n    Line #779 (got 13 columns instead of 12)\n    Line #780 (got 13 columns instead of 12)\n    Line #781 (got 13 columns instead of 12)\n    Line #782 (got 13 columns instead of 12)\n    Line #783 (got 13 columns instead of 12)\n    Line #784 (got 13 columns instead of 12)\n    Line #785 (got 13 columns instead of 12)\n    Line #786 (got 13 columns instead of 12)\n    Line #787 (got 13 columns instead of 12)\n    Line #788 (got 13 columns instead of 12)\n    Line #789 (got 13 columns instead of 12)\n    Line #790 (got 13 columns instead of 12)\n    Line #791 (got 13 columns instead of 12)\n    Line #792 (got 13 columns instead of 12)\n    Line #793 (got 13 columns instead of 12)\n    Line #794 (got 13 columns instead of 12)\n    Line #795 (got 13 columns instead of 12)\n    Line #796 (got 13 columns instead of 12)\n    Line #797 (got 13 columns instead of 12)\n    Line #798 (got 13 columns instead of 12)\n    Line #799 (got 13 columns instead of 12)\n    Line #800 (got 13 columns instead of 12)\n    Line #801 (got 13 columns instead of 12)\n    Line #802 (got 13 columns instead of 12)\n    Line #803 (got 13 columns instead of 12)\n    Line #804 (got 13 columns instead of 12)\n    Line #805 (got 13 columns instead of 12)\n    Line #806 (got 13 columns instead of 12)\n    Line #807 (got 13 columns instead of 12)\n    Line #808 (got 13 columns instead of 12)\n    Line #809 (got 13 columns instead of 12)\n    Line #810 (got 13 columns instead of 12)\n    Line #811 (got 13 columns instead of 12)\n    Line #812 (got 13 columns instead of 12)\n    Line #813 (got 13 columns instead of 12)\n    Line #814 (got 13 columns instead of 12)\n    Line #815 (got 13 columns instead of 12)\n    Line #816 (got 13 columns instead of 12)\n    Line #817 (got 13 columns instead of 12)\n    Line #818 (got 13 columns instead of 12)\n    Line #819 (got 13 columns instead of 12)\n    Line #820 (got 13 columns instead of 12)\n    Line #821 (got 13 columns instead of 12)\n    Line #822 (got 13 columns instead of 12)\n    Line #823 (got 13 columns instead of 12)\n    Line #824 (got 13 columns instead of 12)\n    Line #825 (got 13 columns instead of 12)\n    Line #826 (got 13 columns instead of 12)\n    Line #827 (got 13 columns instead of 12)\n    Line #828 (got 13 columns instead of 12)\n    Line #829 (got 13 columns instead of 12)\n    Line #830 (got 13 columns instead of 12)\n    Line #831 (got 13 columns instead of 12)\n    Line #832 (got 13 columns instead of 12)\n    Line #833 (got 13 columns instead of 12)\n    Line #834 (got 13 columns instead of 12)\n    Line #835 (got 13 columns instead of 12)\n    Line #836 (got 13 columns instead of 12)\n    Line #837 (got 13 columns instead of 12)\n    Line #838 (got 13 columns instead of 12)\n    Line #839 (got 13 columns instead of 12)\n    Line #840 (got 13 columns instead of 12)\n    Line #841 (got 13 columns instead of 12)\n    Line #842 (got 13 columns instead of 12)\n    Line #843 (got 13 columns instead of 12)\n    Line #844 (got 13 columns instead of 12)\n    Line #845 (got 13 columns instead of 12)\n    Line #846 (got 13 columns instead of 12)\n    Line #847 (got 13 columns instead of 12)\n    Line #848 (got 13 columns instead of 12)\n    Line #849 (got 13 columns instead of 12)\n    Line #850 (got 13 columns instead of 12)\n    Line #851 (got 13 columns instead of 12)\n    Line #852 (got 13 columns instead of 12)\n    Line #853 (got 13 columns instead of 12)\n    Line #854 (got 13 columns instead of 12)\n    Line #855 (got 13 columns instead of 12)\n    Line #856 (got 13 columns instead of 12)\n    Line #857 (got 13 columns instead of 12)\n    Line #858 (got 13 columns instead of 12)\n    Line #859 (got 13 columns instead of 12)\n    Line #860 (got 13 columns instead of 12)\n    Line #861 (got 13 columns instead of 12)\n    Line #862 (got 13 columns instead of 12)\n    Line #863 (got 13 columns instead of 12)\n    Line #864 (got 13 columns instead of 12)\n    Line #865 (got 13 columns instead of 12)\n    Line #866 (got 13 columns instead of 12)\n    Line #867 (got 13 columns instead of 12)\n    Line #868 (got 13 columns instead of 12)\n    Line #869 (got 13 columns instead of 12)\n    Line #870 (got 13 columns instead of 12)\n    Line #871 (got 13 columns instead of 12)\n    Line #872 (got 13 columns instead of 12)\n    Line #873 (got 13 columns instead of 12)\n    Line #874 (got 13 columns instead of 12)\n    Line #875 (got 13 columns instead of 12)\n    Line #876 (got 13 columns instead of 12)\n    Line #877 (got 13 columns instead of 12)\n    Line #878 (got 13 columns instead of 12)\n    Line #879 (got 13 columns instead of 12)\n    Line #880 (got 13 columns instead of 12)\n    Line #881 (got 13 columns instead of 12)\n    Line #882 (got 13 columns instead of 12)\n    Line #883 (got 13 columns instead of 12)\n    Line #884 (got 13 columns instead of 12)\n    Line #885 (got 13 columns instead of 12)\n    Line #886 (got 13 columns instead of 12)\n    Line #887 (got 13 columns instead of 12)\n    Line #888 (got 13 columns instead of 12)\n    Line #889 (got 13 columns instead of 12)\n    Line #890 (got 13 columns instead of 12)\n    Line #891 (got 13 columns instead of 12)\n    Line #892 (got 13 columns instead of 12)"
     ]
    }
   ],
   "source": [
    "data=np.genfromtxt('01_data.csv',delimiter=',',names=True)"
   ]
  },
  {
   "cell_type": "code",
   "execution_count": null,
   "metadata": {},
   "outputs": [],
   "source": []
  },
  {
   "cell_type": "code",
   "execution_count": null,
   "metadata": {},
   "outputs": [],
   "source": []
  },
  {
   "cell_type": "code",
   "execution_count": null,
   "metadata": {},
   "outputs": [],
   "source": []
  },
  {
   "cell_type": "code",
   "execution_count": null,
   "metadata": {},
   "outputs": [],
   "source": []
  },
  {
   "cell_type": "code",
   "execution_count": null,
   "metadata": {},
   "outputs": [],
   "source": []
  },
  {
   "cell_type": "code",
   "execution_count": null,
   "metadata": {},
   "outputs": [],
   "source": []
  },
  {
   "cell_type": "code",
   "execution_count": null,
   "metadata": {},
   "outputs": [],
   "source": []
  },
  {
   "cell_type": "code",
   "execution_count": null,
   "metadata": {},
   "outputs": [],
   "source": []
  },
  {
   "cell_type": "code",
   "execution_count": null,
   "metadata": {},
   "outputs": [],
   "source": []
  },
  {
   "cell_type": "code",
   "execution_count": null,
   "metadata": {},
   "outputs": [],
   "source": []
  },
  {
   "cell_type": "code",
   "execution_count": null,
   "metadata": {},
   "outputs": [],
   "source": []
  },
  {
   "cell_type": "code",
   "execution_count": 28,
   "metadata": {},
   "outputs": [],
   "source": [
    "import pandas as pd"
   ]
  },
  {
   "cell_type": "code",
   "execution_count": 29,
   "metadata": {
    "scrolled": true
   },
   "outputs": [],
   "source": [
    "data=pd.read_csv(\"C:/Users/Harisinghbisht/Desktop/SkillSanta/01_data.csv\")"
   ]
  },
  {
   "cell_type": "code",
   "execution_count": 30,
   "metadata": {},
   "outputs": [
    {
     "data": {
      "text/html": [
       "<div>\n",
       "<style scoped>\n",
       "    .dataframe tbody tr th:only-of-type {\n",
       "        vertical-align: middle;\n",
       "    }\n",
       "\n",
       "    .dataframe tbody tr th {\n",
       "        vertical-align: top;\n",
       "    }\n",
       "\n",
       "    .dataframe thead th {\n",
       "        text-align: right;\n",
       "    }\n",
       "</style>\n",
       "<table border=\"1\" class=\"dataframe\">\n",
       "  <thead>\n",
       "    <tr style=\"text-align: right;\">\n",
       "      <th></th>\n",
       "      <th>PassengerId</th>\n",
       "      <th>Survived</th>\n",
       "      <th>Pclass</th>\n",
       "      <th>Name</th>\n",
       "      <th>Sex</th>\n",
       "      <th>Age</th>\n",
       "      <th>SibSp</th>\n",
       "      <th>Parch</th>\n",
       "      <th>Ticket</th>\n",
       "      <th>Fare</th>\n",
       "      <th>Cabin</th>\n",
       "      <th>Embarked</th>\n",
       "    </tr>\n",
       "  </thead>\n",
       "  <tbody>\n",
       "    <tr>\n",
       "      <th>0</th>\n",
       "      <td>1</td>\n",
       "      <td>0</td>\n",
       "      <td>3</td>\n",
       "      <td>Braund, Mr. Owen Harris</td>\n",
       "      <td>male</td>\n",
       "      <td>22.0</td>\n",
       "      <td>1</td>\n",
       "      <td>0</td>\n",
       "      <td>A/5 21171</td>\n",
       "      <td>7.2500</td>\n",
       "      <td>NaN</td>\n",
       "      <td>S</td>\n",
       "    </tr>\n",
       "    <tr>\n",
       "      <th>1</th>\n",
       "      <td>2</td>\n",
       "      <td>1</td>\n",
       "      <td>1</td>\n",
       "      <td>Cumings, Mrs. John Bradley (Florence Briggs Th...</td>\n",
       "      <td>female</td>\n",
       "      <td>38.0</td>\n",
       "      <td>1</td>\n",
       "      <td>0</td>\n",
       "      <td>PC 17599</td>\n",
       "      <td>71.2833</td>\n",
       "      <td>C85</td>\n",
       "      <td>C</td>\n",
       "    </tr>\n",
       "    <tr>\n",
       "      <th>2</th>\n",
       "      <td>3</td>\n",
       "      <td>1</td>\n",
       "      <td>3</td>\n",
       "      <td>Heikkinen, Miss. Laina</td>\n",
       "      <td>female</td>\n",
       "      <td>26.0</td>\n",
       "      <td>0</td>\n",
       "      <td>0</td>\n",
       "      <td>STON/O2. 3101282</td>\n",
       "      <td>7.9250</td>\n",
       "      <td>NaN</td>\n",
       "      <td>S</td>\n",
       "    </tr>\n",
       "    <tr>\n",
       "      <th>3</th>\n",
       "      <td>4</td>\n",
       "      <td>1</td>\n",
       "      <td>1</td>\n",
       "      <td>Futrelle, Mrs. Jacques Heath (Lily May Peel)</td>\n",
       "      <td>female</td>\n",
       "      <td>35.0</td>\n",
       "      <td>1</td>\n",
       "      <td>0</td>\n",
       "      <td>113803</td>\n",
       "      <td>53.1000</td>\n",
       "      <td>C123</td>\n",
       "      <td>S</td>\n",
       "    </tr>\n",
       "    <tr>\n",
       "      <th>4</th>\n",
       "      <td>5</td>\n",
       "      <td>0</td>\n",
       "      <td>3</td>\n",
       "      <td>Allen, Mr. William Henry</td>\n",
       "      <td>male</td>\n",
       "      <td>35.0</td>\n",
       "      <td>0</td>\n",
       "      <td>0</td>\n",
       "      <td>373450</td>\n",
       "      <td>8.0500</td>\n",
       "      <td>NaN</td>\n",
       "      <td>S</td>\n",
       "    </tr>\n",
       "  </tbody>\n",
       "</table>\n",
       "</div>"
      ],
      "text/plain": [
       "   PassengerId  Survived  Pclass  \\\n",
       "0            1         0       3   \n",
       "1            2         1       1   \n",
       "2            3         1       3   \n",
       "3            4         1       1   \n",
       "4            5         0       3   \n",
       "\n",
       "                                                Name     Sex   Age  SibSp  \\\n",
       "0                            Braund, Mr. Owen Harris    male  22.0      1   \n",
       "1  Cumings, Mrs. John Bradley (Florence Briggs Th...  female  38.0      1   \n",
       "2                             Heikkinen, Miss. Laina  female  26.0      0   \n",
       "3       Futrelle, Mrs. Jacques Heath (Lily May Peel)  female  35.0      1   \n",
       "4                           Allen, Mr. William Henry    male  35.0      0   \n",
       "\n",
       "   Parch            Ticket     Fare Cabin Embarked  \n",
       "0      0         A/5 21171   7.2500   NaN        S  \n",
       "1      0          PC 17599  71.2833   C85        C  \n",
       "2      0  STON/O2. 3101282   7.9250   NaN        S  \n",
       "3      0            113803  53.1000  C123        S  \n",
       "4      0            373450   8.0500   NaN        S  "
      ]
     },
     "execution_count": 30,
     "metadata": {},
     "output_type": "execute_result"
    }
   ],
   "source": [
    "data.head()"
   ]
  },
  {
   "cell_type": "code",
   "execution_count": 31,
   "metadata": {},
   "outputs": [],
   "source": [
    "new_data=data[['PassengerId','Survived','Pclass']]"
   ]
  },
  {
   "cell_type": "code",
   "execution_count": 32,
   "metadata": {},
   "outputs": [
    {
     "data": {
      "text/html": [
       "<div>\n",
       "<style scoped>\n",
       "    .dataframe tbody tr th:only-of-type {\n",
       "        vertical-align: middle;\n",
       "    }\n",
       "\n",
       "    .dataframe tbody tr th {\n",
       "        vertical-align: top;\n",
       "    }\n",
       "\n",
       "    .dataframe thead th {\n",
       "        text-align: right;\n",
       "    }\n",
       "</style>\n",
       "<table border=\"1\" class=\"dataframe\">\n",
       "  <thead>\n",
       "    <tr style=\"text-align: right;\">\n",
       "      <th></th>\n",
       "      <th>PassengerId</th>\n",
       "      <th>Survived</th>\n",
       "      <th>Pclass</th>\n",
       "    </tr>\n",
       "  </thead>\n",
       "  <tbody>\n",
       "    <tr>\n",
       "      <th>0</th>\n",
       "      <td>1</td>\n",
       "      <td>0</td>\n",
       "      <td>3</td>\n",
       "    </tr>\n",
       "    <tr>\n",
       "      <th>1</th>\n",
       "      <td>2</td>\n",
       "      <td>1</td>\n",
       "      <td>1</td>\n",
       "    </tr>\n",
       "    <tr>\n",
       "      <th>2</th>\n",
       "      <td>3</td>\n",
       "      <td>1</td>\n",
       "      <td>3</td>\n",
       "    </tr>\n",
       "    <tr>\n",
       "      <th>3</th>\n",
       "      <td>4</td>\n",
       "      <td>1</td>\n",
       "      <td>1</td>\n",
       "    </tr>\n",
       "    <tr>\n",
       "      <th>4</th>\n",
       "      <td>5</td>\n",
       "      <td>0</td>\n",
       "      <td>3</td>\n",
       "    </tr>\n",
       "    <tr>\n",
       "      <th>5</th>\n",
       "      <td>6</td>\n",
       "      <td>0</td>\n",
       "      <td>3</td>\n",
       "    </tr>\n",
       "    <tr>\n",
       "      <th>6</th>\n",
       "      <td>7</td>\n",
       "      <td>0</td>\n",
       "      <td>1</td>\n",
       "    </tr>\n",
       "    <tr>\n",
       "      <th>7</th>\n",
       "      <td>8</td>\n",
       "      <td>0</td>\n",
       "      <td>3</td>\n",
       "    </tr>\n",
       "    <tr>\n",
       "      <th>8</th>\n",
       "      <td>9</td>\n",
       "      <td>1</td>\n",
       "      <td>3</td>\n",
       "    </tr>\n",
       "    <tr>\n",
       "      <th>9</th>\n",
       "      <td>10</td>\n",
       "      <td>1</td>\n",
       "      <td>2</td>\n",
       "    </tr>\n",
       "    <tr>\n",
       "      <th>10</th>\n",
       "      <td>11</td>\n",
       "      <td>1</td>\n",
       "      <td>3</td>\n",
       "    </tr>\n",
       "    <tr>\n",
       "      <th>11</th>\n",
       "      <td>12</td>\n",
       "      <td>1</td>\n",
       "      <td>1</td>\n",
       "    </tr>\n",
       "    <tr>\n",
       "      <th>12</th>\n",
       "      <td>13</td>\n",
       "      <td>0</td>\n",
       "      <td>3</td>\n",
       "    </tr>\n",
       "    <tr>\n",
       "      <th>13</th>\n",
       "      <td>14</td>\n",
       "      <td>0</td>\n",
       "      <td>3</td>\n",
       "    </tr>\n",
       "    <tr>\n",
       "      <th>14</th>\n",
       "      <td>15</td>\n",
       "      <td>0</td>\n",
       "      <td>3</td>\n",
       "    </tr>\n",
       "    <tr>\n",
       "      <th>15</th>\n",
       "      <td>16</td>\n",
       "      <td>1</td>\n",
       "      <td>2</td>\n",
       "    </tr>\n",
       "    <tr>\n",
       "      <th>16</th>\n",
       "      <td>17</td>\n",
       "      <td>0</td>\n",
       "      <td>3</td>\n",
       "    </tr>\n",
       "    <tr>\n",
       "      <th>17</th>\n",
       "      <td>18</td>\n",
       "      <td>1</td>\n",
       "      <td>2</td>\n",
       "    </tr>\n",
       "    <tr>\n",
       "      <th>18</th>\n",
       "      <td>19</td>\n",
       "      <td>0</td>\n",
       "      <td>3</td>\n",
       "    </tr>\n",
       "    <tr>\n",
       "      <th>19</th>\n",
       "      <td>20</td>\n",
       "      <td>1</td>\n",
       "      <td>3</td>\n",
       "    </tr>\n",
       "    <tr>\n",
       "      <th>20</th>\n",
       "      <td>21</td>\n",
       "      <td>0</td>\n",
       "      <td>2</td>\n",
       "    </tr>\n",
       "    <tr>\n",
       "      <th>21</th>\n",
       "      <td>22</td>\n",
       "      <td>1</td>\n",
       "      <td>2</td>\n",
       "    </tr>\n",
       "    <tr>\n",
       "      <th>22</th>\n",
       "      <td>23</td>\n",
       "      <td>1</td>\n",
       "      <td>3</td>\n",
       "    </tr>\n",
       "    <tr>\n",
       "      <th>23</th>\n",
       "      <td>24</td>\n",
       "      <td>1</td>\n",
       "      <td>1</td>\n",
       "    </tr>\n",
       "    <tr>\n",
       "      <th>24</th>\n",
       "      <td>25</td>\n",
       "      <td>0</td>\n",
       "      <td>3</td>\n",
       "    </tr>\n",
       "    <tr>\n",
       "      <th>25</th>\n",
       "      <td>26</td>\n",
       "      <td>1</td>\n",
       "      <td>3</td>\n",
       "    </tr>\n",
       "    <tr>\n",
       "      <th>26</th>\n",
       "      <td>27</td>\n",
       "      <td>0</td>\n",
       "      <td>3</td>\n",
       "    </tr>\n",
       "    <tr>\n",
       "      <th>27</th>\n",
       "      <td>28</td>\n",
       "      <td>0</td>\n",
       "      <td>1</td>\n",
       "    </tr>\n",
       "    <tr>\n",
       "      <th>28</th>\n",
       "      <td>29</td>\n",
       "      <td>1</td>\n",
       "      <td>3</td>\n",
       "    </tr>\n",
       "    <tr>\n",
       "      <th>29</th>\n",
       "      <td>30</td>\n",
       "      <td>0</td>\n",
       "      <td>3</td>\n",
       "    </tr>\n",
       "    <tr>\n",
       "      <th>...</th>\n",
       "      <td>...</td>\n",
       "      <td>...</td>\n",
       "      <td>...</td>\n",
       "    </tr>\n",
       "    <tr>\n",
       "      <th>861</th>\n",
       "      <td>862</td>\n",
       "      <td>0</td>\n",
       "      <td>2</td>\n",
       "    </tr>\n",
       "    <tr>\n",
       "      <th>862</th>\n",
       "      <td>863</td>\n",
       "      <td>1</td>\n",
       "      <td>1</td>\n",
       "    </tr>\n",
       "    <tr>\n",
       "      <th>863</th>\n",
       "      <td>864</td>\n",
       "      <td>0</td>\n",
       "      <td>3</td>\n",
       "    </tr>\n",
       "    <tr>\n",
       "      <th>864</th>\n",
       "      <td>865</td>\n",
       "      <td>0</td>\n",
       "      <td>2</td>\n",
       "    </tr>\n",
       "    <tr>\n",
       "      <th>865</th>\n",
       "      <td>866</td>\n",
       "      <td>1</td>\n",
       "      <td>2</td>\n",
       "    </tr>\n",
       "    <tr>\n",
       "      <th>866</th>\n",
       "      <td>867</td>\n",
       "      <td>1</td>\n",
       "      <td>2</td>\n",
       "    </tr>\n",
       "    <tr>\n",
       "      <th>867</th>\n",
       "      <td>868</td>\n",
       "      <td>0</td>\n",
       "      <td>1</td>\n",
       "    </tr>\n",
       "    <tr>\n",
       "      <th>868</th>\n",
       "      <td>869</td>\n",
       "      <td>0</td>\n",
       "      <td>3</td>\n",
       "    </tr>\n",
       "    <tr>\n",
       "      <th>869</th>\n",
       "      <td>870</td>\n",
       "      <td>1</td>\n",
       "      <td>3</td>\n",
       "    </tr>\n",
       "    <tr>\n",
       "      <th>870</th>\n",
       "      <td>871</td>\n",
       "      <td>0</td>\n",
       "      <td>3</td>\n",
       "    </tr>\n",
       "    <tr>\n",
       "      <th>871</th>\n",
       "      <td>872</td>\n",
       "      <td>1</td>\n",
       "      <td>1</td>\n",
       "    </tr>\n",
       "    <tr>\n",
       "      <th>872</th>\n",
       "      <td>873</td>\n",
       "      <td>0</td>\n",
       "      <td>1</td>\n",
       "    </tr>\n",
       "    <tr>\n",
       "      <th>873</th>\n",
       "      <td>874</td>\n",
       "      <td>0</td>\n",
       "      <td>3</td>\n",
       "    </tr>\n",
       "    <tr>\n",
       "      <th>874</th>\n",
       "      <td>875</td>\n",
       "      <td>1</td>\n",
       "      <td>2</td>\n",
       "    </tr>\n",
       "    <tr>\n",
       "      <th>875</th>\n",
       "      <td>876</td>\n",
       "      <td>1</td>\n",
       "      <td>3</td>\n",
       "    </tr>\n",
       "    <tr>\n",
       "      <th>876</th>\n",
       "      <td>877</td>\n",
       "      <td>0</td>\n",
       "      <td>3</td>\n",
       "    </tr>\n",
       "    <tr>\n",
       "      <th>877</th>\n",
       "      <td>878</td>\n",
       "      <td>0</td>\n",
       "      <td>3</td>\n",
       "    </tr>\n",
       "    <tr>\n",
       "      <th>878</th>\n",
       "      <td>879</td>\n",
       "      <td>0</td>\n",
       "      <td>3</td>\n",
       "    </tr>\n",
       "    <tr>\n",
       "      <th>879</th>\n",
       "      <td>880</td>\n",
       "      <td>1</td>\n",
       "      <td>1</td>\n",
       "    </tr>\n",
       "    <tr>\n",
       "      <th>880</th>\n",
       "      <td>881</td>\n",
       "      <td>1</td>\n",
       "      <td>2</td>\n",
       "    </tr>\n",
       "    <tr>\n",
       "      <th>881</th>\n",
       "      <td>882</td>\n",
       "      <td>0</td>\n",
       "      <td>3</td>\n",
       "    </tr>\n",
       "    <tr>\n",
       "      <th>882</th>\n",
       "      <td>883</td>\n",
       "      <td>0</td>\n",
       "      <td>3</td>\n",
       "    </tr>\n",
       "    <tr>\n",
       "      <th>883</th>\n",
       "      <td>884</td>\n",
       "      <td>0</td>\n",
       "      <td>2</td>\n",
       "    </tr>\n",
       "    <tr>\n",
       "      <th>884</th>\n",
       "      <td>885</td>\n",
       "      <td>0</td>\n",
       "      <td>3</td>\n",
       "    </tr>\n",
       "    <tr>\n",
       "      <th>885</th>\n",
       "      <td>886</td>\n",
       "      <td>0</td>\n",
       "      <td>3</td>\n",
       "    </tr>\n",
       "    <tr>\n",
       "      <th>886</th>\n",
       "      <td>887</td>\n",
       "      <td>0</td>\n",
       "      <td>2</td>\n",
       "    </tr>\n",
       "    <tr>\n",
       "      <th>887</th>\n",
       "      <td>888</td>\n",
       "      <td>1</td>\n",
       "      <td>1</td>\n",
       "    </tr>\n",
       "    <tr>\n",
       "      <th>888</th>\n",
       "      <td>889</td>\n",
       "      <td>0</td>\n",
       "      <td>3</td>\n",
       "    </tr>\n",
       "    <tr>\n",
       "      <th>889</th>\n",
       "      <td>890</td>\n",
       "      <td>1</td>\n",
       "      <td>1</td>\n",
       "    </tr>\n",
       "    <tr>\n",
       "      <th>890</th>\n",
       "      <td>891</td>\n",
       "      <td>0</td>\n",
       "      <td>3</td>\n",
       "    </tr>\n",
       "  </tbody>\n",
       "</table>\n",
       "<p>891 rows × 3 columns</p>\n",
       "</div>"
      ],
      "text/plain": [
       "     PassengerId  Survived  Pclass\n",
       "0              1         0       3\n",
       "1              2         1       1\n",
       "2              3         1       3\n",
       "3              4         1       1\n",
       "4              5         0       3\n",
       "5              6         0       3\n",
       "6              7         0       1\n",
       "7              8         0       3\n",
       "8              9         1       3\n",
       "9             10         1       2\n",
       "10            11         1       3\n",
       "11            12         1       1\n",
       "12            13         0       3\n",
       "13            14         0       3\n",
       "14            15         0       3\n",
       "15            16         1       2\n",
       "16            17         0       3\n",
       "17            18         1       2\n",
       "18            19         0       3\n",
       "19            20         1       3\n",
       "20            21         0       2\n",
       "21            22         1       2\n",
       "22            23         1       3\n",
       "23            24         1       1\n",
       "24            25         0       3\n",
       "25            26         1       3\n",
       "26            27         0       3\n",
       "27            28         0       1\n",
       "28            29         1       3\n",
       "29            30         0       3\n",
       "..           ...       ...     ...\n",
       "861          862         0       2\n",
       "862          863         1       1\n",
       "863          864         0       3\n",
       "864          865         0       2\n",
       "865          866         1       2\n",
       "866          867         1       2\n",
       "867          868         0       1\n",
       "868          869         0       3\n",
       "869          870         1       3\n",
       "870          871         0       3\n",
       "871          872         1       1\n",
       "872          873         0       1\n",
       "873          874         0       3\n",
       "874          875         1       2\n",
       "875          876         1       3\n",
       "876          877         0       3\n",
       "877          878         0       3\n",
       "878          879         0       3\n",
       "879          880         1       1\n",
       "880          881         1       2\n",
       "881          882         0       3\n",
       "882          883         0       3\n",
       "883          884         0       2\n",
       "884          885         0       3\n",
       "885          886         0       3\n",
       "886          887         0       2\n",
       "887          888         1       1\n",
       "888          889         0       3\n",
       "889          890         1       1\n",
       "890          891         0       3\n",
       "\n",
       "[891 rows x 3 columns]"
      ]
     },
     "execution_count": 32,
     "metadata": {},
     "output_type": "execute_result"
    }
   ],
   "source": [
    "new_data"
   ]
  },
  {
   "cell_type": "code",
   "execution_count": null,
   "metadata": {},
   "outputs": [],
   "source": []
  }
 ],
 "metadata": {
  "kernelspec": {
   "display_name": "Python 3",
   "language": "python",
   "name": "python3"
  },
  "language_info": {
   "codemirror_mode": {
    "name": "ipython",
    "version": 3
   },
   "file_extension": ".py",
   "mimetype": "text/x-python",
   "name": "python",
   "nbconvert_exporter": "python",
   "pygments_lexer": "ipython3",
   "version": "3.7.0"
  }
 },
 "nbformat": 4,
 "nbformat_minor": 2
}
